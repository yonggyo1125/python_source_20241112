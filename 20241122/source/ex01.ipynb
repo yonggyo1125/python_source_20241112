{
 "cells": [
  {
   "cell_type": "code",
   "execution_count": 1,
   "metadata": {},
   "outputs": [],
   "source": [
    "f = open(\"D:/file2.txt\", \"w\")\n",
    "\n",
    "for i in range(1, 11): # 1~10\n",
    "    f.write(\"%d번 라인...\\n\" % i)\n",
    "\n",
    "f.close() # 자원 해제 "
   ]
  },
  {
   "cell_type": "code",
   "execution_count": 2,
   "metadata": {},
   "outputs": [
    {
     "name": "stdout",
     "output_type": "stream",
     "text": [
      "1번 라인...\n",
      "2번 라인...\n",
      "3번 라인...\n",
      "4번 라인...\n",
      "5번 라인...\n",
      "6번 라인...\n",
      "7번 라인...\n",
      "8번 라인...\n",
      "9번 라인...\n",
      "10번 라인...\n",
      "\n"
     ]
    }
   ],
   "source": [
    "f = open(\"D:/file2.txt\", \"r\") # r - 읽기 작업 \n",
    "data = f.read() # 파일 내용 전체 읽기 \n",
    "f.close()\n",
    "\n",
    "print(data)"
   ]
  },
  {
   "cell_type": "code",
   "execution_count": 5,
   "metadata": {},
   "outputs": [
    {
     "name": "stdout",
     "output_type": "stream",
     "text": [
      "1번 라인...\n",
      "2번 라인...\n",
      "3번 라인...\n",
      "4번 라인...\n",
      "5번 라인...\n",
      "6번 라인...\n",
      "7번 라인...\n",
      "8번 라인...\n",
      "9번 라인...\n",
      "10번 라인...\n"
     ]
    }
   ],
   "source": [
    "f = open(\"D:/file2.txt\", \"r\") # r - 읽기 작업 \n",
    "\n",
    "while True:\n",
    "    # 문자열 공백 제거 메서드 strip() - 공백(\\s), 줄개행(\\n), 탭 1개(\\t) ...\n",
    "    line = f.readline()\n",
    "    if not line: break\n",
    "    # print(line, end='') # end = '\\n' / end : 문장 끝에 추가할 문자 기본값은 \\n : 줄개행\n",
    "    line = line.strip() # 공백 제거시 줄개행(\\n)도 제거\n",
    "    print(line)\n",
    "\n",
    "f.close()\n"
   ]
  },
  {
   "cell_type": "code",
   "execution_count": 6,
   "metadata": {},
   "outputs": [
    {
     "name": "stdout",
     "output_type": "stream",
     "text": [
      "['1번 라인...\\n', '2번 라인...\\n', '3번 라인...\\n', '4번 라인...\\n', '5번 라인...\\n', '6번 라인...\\n', '7번 라인...\\n', '8번 라인...\\n', '9번 라인...\\n', '10번 라인...\\n']\n"
     ]
    }
   ],
   "source": [
    "f = open(\"D:/file2.txt\", \"r\")\n",
    "lines = f.readlines() # 모든 행을 리스트 객체로 반환\n",
    "f.close()\n",
    "\n",
    "print(lines)"
   ]
  },
  {
   "cell_type": "code",
   "execution_count": 7,
   "metadata": {},
   "outputs": [
    {
     "name": "stdout",
     "output_type": "stream",
     "text": [
      "1번 라인...\n",
      "2번 라인...\n",
      "3번 라인...\n",
      "4번 라인...\n",
      "5번 라인...\n",
      "6번 라인...\n",
      "7번 라인...\n",
      "8번 라인...\n",
      "9번 라인...\n",
      "10번 라인...\n"
     ]
    }
   ],
   "source": [
    "f = open(\"D:/file2.txt\", \"r\")\n",
    "for line in f:\n",
    "    print(line, end='')  # 한줄 한줄 읽어온다 \n",
    "f.close()"
   ]
  },
  {
   "cell_type": "code",
   "execution_count": 9,
   "metadata": {},
   "outputs": [
    {
     "name": "stdout",
     "output_type": "stream",
     "text": [
      "1번 라인...\n",
      "2번 라인...\n",
      "3번 라인...\n",
      "4번 라인...\n",
      "5번 라인...\n",
      "6번 라인...\n",
      "7번 라인...\n",
      "8번 라인...\n",
      "9번 라인...\n",
      "10번 라인...\n"
     ]
    }
   ],
   "source": [
    "with open(\"D:/file2.txt\", \"r\") as f:  # 자동으로 작업이 끝나면 f.close() 호출!\n",
    "    for line in f:\n",
    "        print(line, end='')\n"
   ]
  }
 ],
 "metadata": {
  "kernelspec": {
   "display_name": "base",
   "language": "python",
   "name": "python3"
  },
  "language_info": {
   "codemirror_mode": {
    "name": "ipython",
    "version": 3
   },
   "file_extension": ".py",
   "mimetype": "text/x-python",
   "name": "python",
   "nbconvert_exporter": "python",
   "pygments_lexer": "ipython3",
   "version": "3.12.7"
  }
 },
 "nbformat": 4,
 "nbformat_minor": 2
}
