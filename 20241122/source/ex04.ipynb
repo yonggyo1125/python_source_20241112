{
 "cells": [
  {
   "cell_type": "code",
   "execution_count": 6,
   "metadata": {},
   "outputs": [],
   "source": [
    "import requests\n",
    "from bs4 import BeautifulSoup as bs\n",
    "url = \"https://search.naver.com/search.naver?where=nexearch&sm=top_hty&fbm=0&ie=utf8&query=%EB%B8%94%EB%A1%9C%EA%B7%B8\"\n",
    "response = requests.get(url)\n",
    "html_text = response.text\n",
    "soup = bs(html_text, 'html.parser')"
   ]
  },
  {
   "cell_type": "code",
   "execution_count": 10,
   "metadata": {},
   "outputs": [
    {
     "name": "stdout",
     "output_type": "stream",
     "text": [
      "완주군 '올해의 SNS' 블로그 부문 최우수상…여행·맛 소개 https://www.yna.co.kr/view/AKR20241122059700055?input=1195m\n",
      "여수시, 올해의 SNS 대상 '2관왕'…블로그·카카오채널 부문 https://www.newsis.com/view/NISX20241122_0002969415\n",
      "충남 공주시 '올해의 SNS' 블로그·페이스북 부문 대상 https://www.yna.co.kr/view/AKR20241122068100063?input=1195m\n",
      "화성시 ‘2024 올해의 SNS’ 유튜브·블로그부문 최우수 https://www.news1.kr/local/gyeonggi/5607678\n"
     ]
    }
   ],
   "source": [
    "items = soup.select(\".news_tit\")\n",
    "for item in items:\n",
    "   title = item.get_text()\n",
    "   href = item.attrs['href']  # attrs : 속성 값 \n",
    "   print(title, href)"
   ]
  }
 ],
 "metadata": {
  "kernelspec": {
   "display_name": "base",
   "language": "python",
   "name": "python3"
  },
  "language_info": {
   "codemirror_mode": {
    "name": "ipython",
    "version": 3
   },
   "file_extension": ".py",
   "mimetype": "text/x-python",
   "name": "python",
   "nbconvert_exporter": "python",
   "pygments_lexer": "ipython3",
   "version": "3.12.7"
  }
 },
 "nbformat": 4,
 "nbformat_minor": 2
}
