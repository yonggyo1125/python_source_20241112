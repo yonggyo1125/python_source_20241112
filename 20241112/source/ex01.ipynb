{
 "cells": [
  {
   "cell_type": "code",
   "execution_count": null,
   "metadata": {},
   "outputs": [],
   "source": [
    "class Student:\n",
    "    def __init__(self):\n",
    "        self.id = 0\n",
    "        self.name = \"\"\n",
    "        self.major = \"\"\n",
    "\n",
    "    def study(self): # self : 변수를 접근하기위한 수단, 메서드(클래스에 정의된 함수)\n",
    "        print(self.id, \",\", self.name, \",\", self.major)\n"
   ]
  },
  {
   "cell_type": "code",
   "execution_count": null,
   "metadata": {},
   "outputs": [
    {
     "name": "stdout",
     "output_type": "stream",
     "text": [
      "20240101 , 이이름 , 파이썬\n",
      "20240102 , 김이름 , 자바\n",
      "False\n"
     ]
    }
   ],
   "source": [
    "s1 = Student()\n",
    "s1.id = 20240101\n",
    "s1.name = \"이이름\"\n",
    "s1.major = \"파이썬\"\n",
    "s1.study()\n",
    "\n",
    "\n",
    "s2 = Student()\n",
    "s2.id = 20240102\n",
    "s2.name = \"김이름\"\n",
    "s2.major = \"자바\"\n",
    "s2.study()\n",
    "\n",
    "print(s1 == s2)  # 같은 클래스라는 틀을 가지고 만든 객체이지만 서로 다른 객체!"
   ]
  },
  {
   "cell_type": "code",
   "execution_count": null,
   "metadata": {},
   "outputs": [],
   "source": [
    "class Calculator:\n",
    "    def __init__(self, num1, num2): # 초기화 함수 \n",
    "        self.num1 = num1    # cal = Calculator(10, 20)\n",
    "        self.num2 = num2 \n",
    "\n",
    "\n",
    "    def setNumber(self, num1, num2):\n",
    "        self.num1 = num1  # self.num1 - 객체에 정의된 변수, num1 - setNumber(10,20), 10\n",
    "        self.num2 = num2  # self.num2 - 객체에 정의된 변수\n",
    "\n",
    "    def add(self):\n",
    "        result = self.num1 + self.num2\n",
    "\n",
    "        return result\n",
    "\n",
    "    def minus(self):\n",
    "        result = self.num1 - self.num2\n",
    "\n",
    "        return result\n",
    "    \n",
    "    def div(self):\n",
    "        result = self.num1 / self.num2\n",
    "\n",
    "        return result\n",
    "    \n",
    "    def mul(self):\n",
    "        result = self.num1 * self.num2\n",
    "\n",
    "        return result\n"
   ]
  },
  {
   "cell_type": "code",
   "execution_count": 34,
   "metadata": {},
   "outputs": [],
   "source": [
    "class ProCalculator(Calculator):\n",
    "    # pass # pass - 아무것도 하지 않음..\n",
    "\n",
    "    def square(self, num):\n",
    "        result = num * num\n",
    "\n",
    "        return result"
   ]
  },
  {
   "cell_type": "code",
   "execution_count": 38,
   "metadata": {},
   "outputs": [
    {
     "name": "stdout",
     "output_type": "stream",
     "text": [
      "100\n"
     ]
    }
   ],
   "source": [
    "#cal = ProCalculator(10, 20)\n",
    "cal = ProCalculator(10, 0)\n",
    "#result = cal.add() # Calculator에 정의된 add 메서드 \n",
    "#print(result)\n",
    "\n",
    "result = cal.square(10)\n",
    "print(result)\n",
    "\n",
    "#result2 = cal.div()\n",
    "#print(result2)"
   ]
  },
  {
   "cell_type": "code",
   "execution_count": 39,
   "metadata": {},
   "outputs": [],
   "source": [
    "class MoreProCalculator(Calculator):\n",
    "    def div(self): # 메서드 재정의\n",
    "        if self.num2 == 0: # 나누는 수가 0이면 오류 발생, 0으로 반환 \n",
    "            return 0  # 0을 반환, 함수 연산 종료! 이후 코드는 실행 X\n",
    "\n",
    "        result = self.num1 / self.num2\n",
    "        return result        \n"
   ]
  },
  {
   "cell_type": "code",
   "execution_count": 41,
   "metadata": {},
   "outputs": [
    {
     "name": "stdout",
     "output_type": "stream",
     "text": [
      "0\n"
     ]
    }
   ],
   "source": [
    "cal = MoreProCalculator(10, 0)\n",
    "result = cal.div() # MoreProCalculator - div() 호출\n",
    "print(result)"
   ]
  },
  {
   "cell_type": "code",
   "execution_count": null,
   "metadata": {},
   "outputs": [],
   "source": [
    "#cal = Calculator()  # __init__(self) 호출\n"
   ]
  },
  {
   "cell_type": "code",
   "execution_count": 30,
   "metadata": {},
   "outputs": [
    {
     "name": "stdout",
     "output_type": "stream",
     "text": [
      "30\n",
      "-10\n",
      "200\n"
     ]
    }
   ],
   "source": [
    "cal = Calculator(10, 20)\n",
    "#cal.setNumber(10, 20)\n",
    "#print(cal.num1, cal.num2)\n",
    "\n",
    "\n",
    "result = cal.add()\n",
    "print(result)\n",
    "\n",
    "result2 = cal.minus()\n",
    "print(result2)\n",
    "\n",
    "result3 = cal.mul()\n",
    "print(result3)"
   ]
  },
  {
   "cell_type": "code",
   "execution_count": 25,
   "metadata": {},
   "outputs": [
    {
     "ename": "TypeError",
     "evalue": "Calculator() takes no arguments",
     "output_type": "error",
     "traceback": [
      "\u001b[1;31m---------------------------------------------------------------------------\u001b[0m",
      "\u001b[1;31mTypeError\u001b[0m                                 Traceback (most recent call last)",
      "Cell \u001b[1;32mIn[25], line 1\u001b[0m\n\u001b[1;32m----> 1\u001b[0m cal \u001b[38;5;241m=\u001b[39m \u001b[43mCalculator\u001b[49m\u001b[43m(\u001b[49m\u001b[38;5;241;43m10\u001b[39;49m\u001b[43m,\u001b[49m\u001b[43m \u001b[49m\u001b[38;5;241;43m20\u001b[39;49m\u001b[43m)\u001b[49m\n",
      "\u001b[1;31mTypeError\u001b[0m: Calculator() takes no arguments"
     ]
    }
   ],
   "source": [
    "cal = Calculator(10, 20)"
   ]
  },
  {
   "cell_type": "code",
   "execution_count": 47,
   "metadata": {},
   "outputs": [],
   "source": [
    "class Family:\n",
    "    firstname = \"이름\"  # 클래스 변수"
   ]
  },
  {
   "cell_type": "code",
   "execution_count": 48,
   "metadata": {},
   "outputs": [
    {
     "name": "stdout",
     "output_type": "stream",
     "text": [
      "김 이름\n",
      "김 이름\n"
     ]
    }
   ],
   "source": [
    "Family.lastname = \"김\"   # 클래스 변수\n",
    "f1 = Family()\n",
    "print(f1.lastname, f1.firstname)\n",
    "\n",
    "f2 = Family()\n",
    "print(f2.lastname, f2.firstname)"
   ]
  },
  {
   "cell_type": "code",
   "execution_count": 50,
   "metadata": {},
   "outputs": [
    {
     "name": "stdout",
     "output_type": "stream",
     "text": [
      "이 이름\n",
      "김 이름\n"
     ]
    }
   ],
   "source": [
    "f1.lastname = \"이\"\n",
    "print(f1.lastname, f1.firstname)  # f1.lastname - 객체 변수, f1.fistname - 클래스 변수\n",
    "\n",
    "print(f2.lastname, f2.firstname) # f1.lastname, f1.firstname - 클래스 변수"
   ]
  },
  {
   "cell_type": "code",
   "execution_count": 51,
   "metadata": {},
   "outputs": [
    {
     "name": "stdout",
     "output_type": "stream",
     "text": [
      "김 이름\n"
     ]
    }
   ],
   "source": [
    "print(Family.lastname, Family.firstname) # 클래스 변수"
   ]
  }
 ],
 "metadata": {
  "kernelspec": {
   "display_name": "Python 3",
   "language": "python",
   "name": "python3"
  },
  "language_info": {
   "codemirror_mode": {
    "name": "ipython",
    "version": 3
   },
   "file_extension": ".py",
   "mimetype": "text/x-python",
   "name": "python",
   "nbconvert_exporter": "python",
   "pygments_lexer": "ipython3",
   "version": "3.12.5"
  }
 },
 "nbformat": 4,
 "nbformat_minor": 2
}
