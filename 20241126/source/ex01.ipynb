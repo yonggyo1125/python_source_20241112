{
 "cells": [
  {
   "cell_type": "code",
   "execution_count": 1,
   "metadata": {},
   "outputs": [],
   "source": [
    "# requests 패키지 - 원격 데이터 가져오기\n",
    "# pip install requests\n",
    "import requests"
   ]
  },
  {
   "cell_type": "code",
   "execution_count": 4,
   "metadata": {},
   "outputs": [],
   "source": [
    "url = \"https://finance.naver.com/marketindex/exchangeList.naver\"\n",
    "response = requests.get(url)\n",
    "html_text = response.text"
   ]
  },
  {
   "cell_type": "code",
   "execution_count": 5,
   "metadata": {},
   "outputs": [],
   "source": [
    "# BeautifulSoup \n",
    "# pip install BeautifulSoup4\n",
    "from bs4 import BeautifulSoup as bs\n",
    "soup = bs(html_text, 'html.parser') # parser 변환기 \n",
    "# HTML 텍스트 - BeautifulSoup이 사용가능한 형태로 변환"
   ]
  },
  {
   "cell_type": "code",
   "execution_count": 15,
   "metadata": {},
   "outputs": [
    {
     "name": "stdout",
     "output_type": "stream",
     "text": [
      "{'sale': '1,397.30', 'buy': '1,421.75', 'sell': '1,372.85'}\n"
     ]
    }
   ],
   "source": [
    "# select : 선택한 모든 요소, select_one : 선택한 하나의 요소\n",
    "items = soup.select(\".tbl_exchange tbody tr\")\n",
    "exchange_rate = dict()\n",
    "for item in items:\n",
    "    title = item.select_one(\".tit a\")\n",
    "    title = title.get_text().strip() # a 태그 안쪽의 텍스트, \n",
    "    # strip() : 공백 제거 (\\s - 공백, \\t - 탭키 한번 누른 문자, \\n - 줄개행 문자)\n",
    "    if title.find(\"USD\") != -1: # 미국 환율인 경우! -1인 경우는 발견 못한 경우\n",
    "        tds = item.select(\"td\")\n",
    "        sale = tds[1].get_text().strip() # 2번째 td는 기준 환율\n",
    "        buy = tds[2].get_text().strip() # 3번째 td는 살때 환율\n",
    "        sell = tds[3].get_text().strip() # 4번째 td는 팔때 환율\n",
    "        exchange_rate['sale'] = sale\n",
    "        exchange_rate['buy'] = buy\n",
    "        exchange_rate['sell'] = sell\n",
    "\n",
    "print(exchange_rate)"
   ]
  }
 ],
 "metadata": {
  "kernelspec": {
   "display_name": "base",
   "language": "python",
   "name": "python3"
  },
  "language_info": {
   "codemirror_mode": {
    "name": "ipython",
    "version": 3
   },
   "file_extension": ".py",
   "mimetype": "text/x-python",
   "name": "python",
   "nbconvert_exporter": "python",
   "pygments_lexer": "ipython3",
   "version": "3.12.7"
  }
 },
 "nbformat": 4,
 "nbformat_minor": 2
}
