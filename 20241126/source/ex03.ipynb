{
 "cells": [
  {
   "cell_type": "code",
   "execution_count": null,
   "metadata": {},
   "outputs": [],
   "source": [
    "# pip install selenium "
   ]
  },
  {
   "cell_type": "code",
   "execution_count": 22,
   "metadata": {},
   "outputs": [],
   "source": [
    "from selenium import webdriver\n",
    "from selenium.webdriver.common.keys import Keys\n",
    "from selenium.webdriver.common.by import By\n",
    "import time \n",
    "\n",
    "driver = webdriver.Chrome() # 크롬 브라우저를 하나 열어준다!\n",
    "\n",
    "# 네이버 주소를 열린 브라우저에 완성, 이동 \n",
    "driver.get('https://www.naver.com')\n",
    "\n",
    "# 브라우저 주소 -> 네이버 서버 -> 텍스형태의 HTML 응답 \n",
    "# -> 브라우저가 인식할 수 있는 객체(Document) 변환 -> 시간이 소요\n",
    "time.sleep(3) # 3초 대기 - 웹페이지가 로딩이 완료 될때까지 충분히 기다리기 위해서!"
   ]
  },
  {
   "cell_type": "code",
   "execution_count": 25,
   "metadata": {},
   "outputs": [],
   "source": [
    "search_box = driver.find_element(By.ID, \"query\")\n",
    "search_box.send_keys(\"블로그\")  # 키보드를 누른것과 같이 입력 데이터를 추가\n",
    "search_box.send_keys(Keys.RETURN) # 엔터키를 한번 누른다"
   ]
  }
 ],
 "metadata": {
  "kernelspec": {
   "display_name": "base",
   "language": "python",
   "name": "python3"
  },
  "language_info": {
   "codemirror_mode": {
    "name": "ipython",
    "version": 3
   },
   "file_extension": ".py",
   "mimetype": "text/x-python",
   "name": "python",
   "nbconvert_exporter": "python",
   "pygments_lexer": "ipython3",
   "version": "3.12.7"
  }
 },
 "nbformat": 4,
 "nbformat_minor": 2
}
