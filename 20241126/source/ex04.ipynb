{
 "cells": [
  {
   "cell_type": "code",
   "execution_count": null,
   "metadata": {},
   "outputs": [],
   "source": [
    "from selenium import webdriver\n",
    "from selenium.webdriver.common.keys import Keys\n",
    "from selenium.webdriver.common.by import By\n",
    "import time\n",
    "\n",
    "driver = webdriver.Chrome() # 크롬 브라우저 열기\n",
    "driver.get(\"https://www.naver.com\") # 네이버 웹페이지로 이동\n",
    "\n",
    "time.sleep(3)  #  웹페이지 충분히 다 로드 될때까지 3초 대기\n",
    "\n",
    "# 블로그 링크 선택 \n",
    "menu_items = driver.find_elements(By.CSS_SELECTOR, \".shortcut_list .link_service\")"
   ]
  }
 ],
 "metadata": {
  "kernelspec": {
   "display_name": "base",
   "language": "python",
   "name": "python3"
  },
  "language_info": {
   "codemirror_mode": {
    "name": "ipython",
    "version": 3
   },
   "file_extension": ".py",
   "mimetype": "text/x-python",
   "name": "python",
   "nbconvert_exporter": "python",
   "pygments_lexer": "ipython3",
   "version": "3.12.7"
  }
 },
 "nbformat": 4,
 "nbformat_minor": 2
}
