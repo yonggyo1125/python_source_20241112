{
 "cells": [
  {
   "cell_type": "code",
   "execution_count": null,
   "metadata": {},
   "outputs": [
    {
     "name": "stderr",
     "output_type": "stream",
     "text": [
      "C:\\Users\\admin\\AppData\\Local\\Temp\\ipykernel_20660\\1462258337.py:41: DeprecationWarning: using WebElement.get_attribute() has been deprecated. Please use get_dom_attribute() instead.\n",
      "  img_url = img.get_attribute(\"src\")\n"
     ]
    },
    {
     "name": "stdout",
     "output_type": "stream",
     "text": [
      "제목: 진주 사회복지사2급자격증 취득방법 알아보기 (찐정보글)\n",
      "내용: 진주 사회복지사2급자격증 취득방법 알아보기 (찐정보글) 안녕하세요 교육 전문 컨설턴트 조은팀입니다 현재 실습자리를 구하기 힘들정도로 인기가 많은 자격증으로 사회복지사2급자격증을 꼽을 수 있어요 1급의 경우 4년제 대학교 졸업이나 2급 자격증 취득 후 경력이 필요하고 국가고시 통과가 필요한 반면 2급의 경우 별도의 국가고시 통과없이 필수조건만 충족된다면 협회에 자료 제출 후 자격증 취득이 가능합니다 그래서 진주 사회복지사2급자격증 취득 후 사회복지사로 근무하고 싶은 분들을 위해 취득방법에 대해 알아보는 시간 가지려고해요 누군가의 후기 글이 아닌 찐정보글로 실제로 준비하는 분들에게 많은 도움이 되실거라 생각들어요 사회복지사 준비하기 진주 사회복지사2급자격증 취득방법 알아보는 이유는 사회복지사로 근무하기 위함이겠죠? 그러기 위해선 앞서 말씀드렸듯이 필수 조건을 갖춰야해요 해당 필수조건을 살펴보면 01) 전문대학교 이상 졸업자 02) 사회복지 관련 17과목 이수 (실습 1과목 포함 - 160시간) 이렇게 2가지 조건을 모두 갖춰야하며 대학교 졸업은 다른 학과여도 상관없이 학교 졸업장만 있으면 되죠 혹여나 대학교 졸업자 중 2020...\n",
      "이미지: https://blogthumb.pstatic.net/MjAyNDExMjhfMTgy/MDAxNzMyNzc3OTAwMzI4.TDsOALNgkJMYKLbB6-pXhxq0hG0Tm2ww9QXT7m51LiYg.HF9aqkdqNl-1-XA7Tqq2ago8cZH7PSwwY-fK4XTryqcg.PNG/001.png?type=s2\n",
      "제목: 한국교육학술정보원, 맞춤배움길 디지털배지 오픈 이벤트\n",
      "내용: 꿈을 향한 업그레이드! 학위, 취업, 자격증, 이직, 승진, 인생2막 당신의 꿈이 이루어지는 곳~ 숭실사이버대학교입니다 한국교육학술정보원이 운영하는 맞춤배움길에서 디지털배지 오픈 이벤트를 진행하는데요! 11월 27일(수) ~ 12월 13일(금) 디지털배지 발급자라면 누구나 만족도 조사 응답을 통해 참여할 수 있는 이벤트이니 많은 관심 부탁드려요! ^^ 선착순 4,000명 편의점 5천원 상품권 추첨을 통해 300명에게 치킨 상품권 당첨자 발표 : 12월 16일(월) * 진행 상황에 따라 변동 가능 참여방법 STEP 1. ‘배움이력 전자지갑(앱)’ 설치 후 회원가입 STEP 2. 로그인 후 튜토리얼 3단계 진행 튜토리얼 완료 후, 보상 디지털배지 받기 STEP 3. ‘나의 디지털배지’ 메뉴에서 발급받은 디지털배지 확인 * 튜토리얼 완료 시, 튜토리얼 디지털배지 3종과 등급 디지털배지 1종 발급 STEP 4. 만족도조사 응답 맞춤배움길은 성인학습자의 자기주도적 교육과정 설계를 지원하는 대국민 서비스입니다! 한국교육학술정보원에서 운영하며 나에게 적합한 원격대학 학과를 인공지능 기반으로 추천하며 교육과정 정보를 제공한답니다. 관심사, 거주지역, 학습목적 등 본...\n",
      "이미지: https://blogthumb.pstatic.net/MjAyNDExMjhfMjYg/MDAxNzMyNzc1NTQyMzQ4.kBouirme3vcMNoOcj-Eyq2HP7seW3LsvcGZni6CGFNgg.2N_Re_fAahKJHvESKkq8uA66UVshwW1l7cI_VLcCkhsg.PNG/%B5%F0%C1%F6%C5%D0%B9%E8%C1%F6.png?type=s2\n",
      "제목: 경북대학교 입시정보 (모집요강, 정시 등급, 수시 등급)\n",
      "내용: 안녕하세요~질수는없다 입니다. 이번 포스팅에서는 경북대학교 입시정보 (정시모집)에 대해 알려드리려고 합니다. 경북대학교는 대구를 대표하는 국립대학교로, 뛰어난 교육 환경과 다양한 학과로 많은 학생들의 꿈을 지원하는 대학입니다. 지금부터 정시 모집과 관련된 중요한 정보들을 자세히 소개 드릴게요! 정시 모집 일정 및 주요 정보 원서접수기간: 2024년 12월 31(화) 09:00~2025년 1월 3일 (금) 18:00까지 합격자 발표 : 2025년 2월 7일 (금) 16:00 모집군 :가군/ 나군 경북대학교는 수험생들에게 공정한 기회를 제공하기 위해 다양한 전형 요소를 평가 기준에 반영하고 있습니다. 지원 전에 반드시 모집요강을 확인하시고, 자신에게 유리한 전형을 선택하세요. 참고. 신설 학과 소개 정보 컴퓨터교육과 학과 개요 : 미래의 정보화 지식사회에서 요구되는 컴퓨터 관련 교육을 이해하고, 이를 현장 교육에 활용할 수 있는 능력을 배양하여 창의적 인재 육성과 정보 컴퓨터 분야의 선도적 전문 교원을 양성하는 학과. 학과 특성 ; 중등교원 양성을 위한 기본 교육과 컴퓨터 과학 기술의 전문적인 지식, AI 소양과 에듀테크 전문가를 양성하기 위한 융합교육 운영 교...\n",
      "이미지: https://blogthumb.pstatic.net/MjAyNDExMjhfMTYz/MDAxNzMyNzYxMjUwMDYw.FzX2XXxS6VAf5tECam-KJPz_BZXa-BFw26J5o7bPOA8g.JDKBhGnckaQ19m1I9YFl4sNmNFQWX5SCQ4kffhQF0O4g.PNG/%C1%A6%B8%F1%C0%BB_%C0%D4%B7%C2%C7%D8%C1%D6%BC%BC%BF%E4_-001_-_2024-11-28T113400.046.png?type=s2\n",
      "제목: 인천지역 자사고, 일반고 2024, 2023 최근 입결\n",
      "내용: 인천 지역 최근 입결입니다. 숭덕여고 이외에 홈페이지등을 통해 적극적으로 입결 발표하는 학교가 없어서 주로 평촌 드래곤 영어 블로그 자료를 참조해서 정리해 보았습니다. 인천지역 자사고 (중복, 재수 포함 합격건수) 인천 지역 일반고 입결 (중복, 재수 포함 합격건수) 인천하늘고 2024 https://m.blog.naver.com/PostView.naver?blogId=bookijoa&logNo=223410686033&referrerCode=0&searchKeyword=%EC%9D%B8%EC%B2%9C%ED%95%98%EB%8A%98%EA%B3%A0 인천하늘고 2024 (수시,정시 구분), 2023 https://blog.naver.com/kgr0610-/223499158207 인천포스코고 2024 https://blog.naver.com/bookijoa/223602011933 숭덕여고 2024 https://blog.naver.com/bookijoa/223362637376?trackingCode=blog_bloghome_searchlist 숭덕여고 2025 입학설명회 브로셔 http://soongduk.icehs.kr/boardCnts/updateCnt.do?boardID=272097&viewBoardID=272097&boardSeq=32234046&lev=0&action=view&searchType=S&statusYN=W&page=1&m=0402&s=soongdukhs 강화고 2023 https://blog.naver.com/bookijoa/223290435263\n",
      "이미지: https://blogthumb.pstatic.net/MjAyNDExMjhfMjYx/MDAxNzMyNzcyNTI1OTcz.GjpVNKI9dWNbrjwhMrtcBYntcbUMe7_9U0lKILMQCRMg.AayUwl_zlpCMfaZkyQkhT4gy0JjY9iAfhe1Vjq38qgog.JPEG/%C6%F7%BD%BA%C4%DA_%B0%ED%B5%EE%C7%D0%B1%B3.JPG?type=s2\n",
      "제목: [이화여대] 감동을 전하는 사람을 꿈꾸며, 김경란 동문을 만나다\n",
      "내용: 안녕하세요, 이화인 여러분! 오늘 이투리는 새로운 도전과 시작 앞에 고민 중일 이화인들을 위해 특별한 동문 인터뷰를 준비했습니다. 방송 3사에 모두 합격하고 KBS 아나운서로서 활약하시다 현재는 프리랜서 방송인으로 활동하고 계신 김경란 동문(철학·00년졸)을 만나 보았는데요. 연기, 베이킹 등 끊임없이 새로운 도전에 나서며 자신만의 목표를 향해 나아가고 있는 김경란 동문 님의 이야기, 함께 만나 보시죠! Q. 안녕하세요, 동문님! 간단히 자기소개 부탁드립니다. 안녕하세요. 반가워요! 저는 이화여대 96학번으로 인문과학대학 학부로 입학했고, 2학년 때 #철학 을 주전공으로 #경영학 을 복수 전공을 했었습니다. #KBS 아나운서로 활동하다가 지금은 프리랜서로 활동하고 있습니다. 요즘엔 채널이 워낙에 다양해서 OTT 채널이나 공중파나 종편 채널이든 가릴 것 없이 다양한 방면에서 프리랜서로 방송 활동을 하고 있어요. 다음으로 제가 좋아하는 작업 중에 하나로 책이나 소설을 낭독하는 오디오북 콘텐츠 작업도 꾸준히 하고 있습니다. 그리고 무엇보다 올해는 연기 수업을 계속해서 듣고 있어요. 2015년도에 첫 연극을 했었는데, 최근에 제대로 연...\n",
      "이미지: https://blogthumb.pstatic.net/MjAyNDExMTRfMTE4/MDAxNzMxNTcwMDM4NjA2.sw_w-XNUrKzrMA5RroGEtUYZ3KcLy1dy-dnT__PXrX4g.ReD9J3VRzvDggU77QCyeCHy4PHrF75TyFXD2NxutIS4g.JPEG/KakaoTalk_Photo_2024-09-02-02-41-45.jpeg?type=s2\n",
      "제목: 광교 일반고 배정 현황은 어떤가요?\n",
      "내용: 광교쪽에 계시는 분들에게는 조금 민감한 이야기일 수 있는데, 이전 <학군지도> 책을 쓰며 광교에 고등학교가 많지 않아 광교에서 먼쪽으로 고교 배정을 받는 경우가 있고, 이런 문제 때문에서라도 분당으로 이사를 가야 하나 고민하는 가정을 많이 만났습니다. 개정판을 쓰며 저출생 덕분에 학생수 감소로 자연스럽게 이 문제가 해결되고, 원거리 배정이 줄었다는 소식을 들었고, 이런 내용을 반영했는데 요즘은 분위기가 어떤지 모르겠네요. 지금 추가 개정판을 쓰고 있는데, 현지 분위기나 제가 참조할 만한 구체적인 통계를 댓글로 알려 주시면 좀 더 정확하게 현재 광교 고등학교 상황을 기술해서 독자님들께 설명드리도록 하겠습니다 우선 아래 개정원고 초안입니다. 광교 고등학교 학군의 고민 또 하나 광교 지역의 고민 중 하나는 중학교 수에 비해 관내 고등학교가 부족해, 원거리 배정되는 학생들이 많다는 점이었다. 수원 고등학교는 1단계(50%)에서 수원시 전체 학교 가운데 5 학교를 지원해서 배정받고, 배정되지 않은 학생들은 2단계(50%) 학구 내 복수 지원해서 배정받는다. 2단계 학구는 북부와 남부로 나뉘는데 북부에 속하는 장안구 이목동이나 정자동은 수...\n",
      "이미지: https://blogthumb.pstatic.net/MjAyNDExMjhfMjY4/MDAxNzMyNzY5NDcyOTgx.cTAY7Mcx5T73Z6MWkkf-tIC1u_9UmhEh1LID2fgZA5Eg.hT9Ffey_dNlVninJ7AMmOOzStrb5Lavijr07-gQpuywg.JPEG/SAM_2226_%B1%A4%B1%B3%B0%ED.JPG?type=s2\n",
      "제목: 취학통지서를 받는다면? ft. 초등 입학 전 연습하면 좋은 2가지는?\n",
      "내용: 취학통지서를 받는다면? ft. 초등 입학 전 연습하면 좋은 2가지는? 이제 곧 있으면 취학통지서를 받는 시기가 돼요. 다음 달부터 전국 읍면 사무소와 동 주민센터에서 관내 지역 아이들의 보호자들에게 취학통지서를 발송하거든요. 발송 시기 2025학년도 초등학교 입학생을 기준으로 우편(등기) 혹은 인편으로는 2024년 12월 9일부터 20일까지. 온라인으로는 2024년 12월 2일부터 20일까지 취학통지서를 발송할 예정이에요. 그게 뭐라고... 막상 받게 되면 엄청 떨리더라고요. 이미 아이들이 초등학교를 졸업한 지도 꽤 되었지만 아직도 그날의 떨림이 남아 있는 것 같아요. '우리 아이가 벌써 학교에 갈 나이가 되다니...' '우리 아이가 학교생활을 잘 해낼 수 있을까?' 이 두 가지 마음이 요동치면서 설레기도 하고 걱정되기도 하던 마음. 만약 첫째의 통지서를 받게 되신다면 엄청 떨리시지 않을까 싶어요. 입학 전 연습하면 좋은 2가지 입학 전까지 초등 입학 관련해서 포스팅으로도 많은 이야기를 드리겠지만, 일단 두 가지를 미리 연습하면 좋아요. 첫째! 우유갑 열기! 우유급식을 할 때 아이들이 가장 어려워하는 것이 우유갑 열기에요. 손가락 힘이 부족하기도 하고, ...\n",
      "이미지: https://blogthumb.pstatic.net/MjAyNDExMjhfMTQ5/MDAxNzMyNzY4MTEzNDA3.hT2zuMWHmuDQxt5WxInU1wkL5296tkdrroqAlX764dIg.5P4ASIo-uZiSff9J5cHsBacv9mXRVSwJr4Jguhed8Mcg.PNG/%3F%84%A0%EB%AC%3F_%EA%B0%99%EC%3F_%EC%B7%A8%ED%95%99%3F%86%B5%EC%A7%3F%3F%84%9C.png?type=s2\n",
      "제목: 전기기사 학점은행제 온라인으로 준비했어요\n",
      "내용: 안녕하세요! 저는 전기기사 학점은행제 제도를 통해서 전졸자였던 제가 응시자격을 쉽게 갖추고 자격증까지 취득 한 20대 문00입니다 부모님 권유로 전문대 it 관련 전공으로 졸업을 해서 일을 하고 있었는데요 지금 있었던 회사가 좋은 편도 아니었고 제 업무에 맞지 않아서 흥미가 사라졌어요 그렇게 아버지에게 이야기를 털어놓으면서 진로에 대한 걱정을 크게 하기 시작했고 어떤 길로 가야 할지 고민이 많아졌어요 그러다 아버지가 다니는 전기회사에 같이 일을 시작해 보는 게 어떻냐고 물어보았고 물론 아버지 아래로 들어가기에 따로 준비해야 할 게 없어도 취업이 가능했지만 이왕 알아보는 김에 자격증을 취득하기로 결심을 하고 정보를 찾기 시작했어요 그렇게 전기기사 자격증을 찾아보면서 전기기사 학점은행제에 대한 정보를 알게 되어 자세히 찾아보기 시작했답니다 저는 먼저 전기기사를 취득하는 과정을 찾아보았고 응시자격을 갖춰야지만 시험을 볼 수 있다는 정보를 알게 되었는데요 - 4년제 관련 전공 학위 취득 - 산업기사 + 1년의 실무 경력 - 순수 4년의 실무 경력 - 학점은행제 106학점 취득 저는 전졸자라 학력도 부족한 상태였고 실무경력도 아예 ...\n",
      "이미지: https://blogthumb.pstatic.net/MjAyNDExMjhfMTQx/MDAxNzMyNzYzNjQzOTQy.dufujmDwdJ6guOFFtwzHm6DDfmeRttdQSpqLPmCsaJ4g.qmFEasa14y9D8pANDuHBLat3NIBrhS-lH78M64uKN9Yg.PNG/001.png?type=s2\n",
      "제목: 2024 대한민국 교육혁신 박람회 사전 신청 완료!\n",
      "내용: 2024년 12월 13일 (금) -12월 15일 (일) 3일간 대한민국 교육혁신 박람회가 일산 킨텍스에서 열린다고 한다! 쉽게 갈 수 있는 킨텍스에서 다양한 연수를 들을 수 있다니 관심이 생겨서 다녀오기로 결정했다 (무엇보다도, 우리 연구회 모임은 물론이고 회장님이 수업사례발표가 있어서 그것을 메인으로 겸사겸사) ♬해당 링크를 통해 들어가서 신청하면 된다!♬ 미래교실 수업 참관 신청 일단 미래교실 수업 참관 신청을 하기로! 금요일에 일찍 수업이 끝나는데 출장달고 가면 될 것 같은 느낌 남편이랑 같이 가기로 했기에 남편이 중학교 2학년 역사를 들어보고 싶다고 해서 같이 서울 번동중의 김동은 선생님 수업을 참관 신청했다 어떻게 수업하실까 궁금하다ㅎㅎㅎㅎ! 사례 나눔 강의 일단 우리 전국단위 지리연구회 회장님이 발표하시는 \"사용자 친화 도시 만들기\" 1빠로 신청했구요!!! 무조건 들어야지 (남편도 등록하게 시켰다...강제로 듣게할것임) 그리고 수업혁신사례연구대회에서 나에게 영감을 많이 주었던 작년 1등급 보고서가 두개인데 이 두 보고서 샘들을 만날 수 있다니 좀 기대가 되었다! 그런데 시간관계상 영어 챗(CHAT) GPS로 미래 핵심역량 CP...\n",
      "이미지: https://blogthumb.pstatic.net/MjAyNDExMjhfMTg1/MDAxNzMyNzYxODc4MTM0._PI7-aMkjkUva3aPNaee_SCRXEmy-XyPDlVp2djTsYEg.4ipmqUheewfVZOSvn1Tt8t1XIUCeR-gYTwHw5qGFrc4g.PNG/image.png?type=s2\n",
      "제목: 초등필수어휘와 글쓰기까지 한번에, 이지스에듀 바빠 초등 문해력 어휘 100\n",
      "내용: 요즘 아이들의 문해력 저하가 사회적 문제로 대두되고 있는데요! 단순히 숏츠나 틱톡 등 짧은 영상을 많이 보고 독서를 적게 해서가 아니라 책을 읽기 위한 기본 자산, 즉 배경지식이나 어휘력 부족이 초등문해력 저하에 큰 영향을 끼친다고 해요~ 어휘력이 중요하다고 하니 다들 우리말의 70% 이상을 이루고 있는 한자의 중요성이 재조명되어 한참 초등어휘력하면 한자 공부를 떠올리게 되었는데요. 그럼 나머지 30%에 속하는 한자어가 아닌 우리말 중에도 초등필수어휘가 있을텐데 이건 어떻게 익혀야 하는가 고민이 들더라구요. 한자와 상관없이 부담없이 초등필수어휘를 익히기 좋은 국어문제집을 찾다 알게된 이지스에듀 <바빠 초등 문해력 어휘 100>을 소개해봅니다. 사실 어휘력 키워주는 초등국어문제집 역시 시중에 많지만, 특별히 이 교재를 추천하는 이유는 단순히 어휘력만 쌓아주는데서 그치지 않고 문해력을 키워주는 글쓰기 훈련까지 시켜주는 교재라서인데요! 일단 이지스에듀 <바빠 초등 문해력 어휘 100> 시리즈는 모두 2권으로 구성되며 그 중 초롱양과 함께 풀어본 1권은 초등학교 3,4학년에게 추천하는 초등국어 문제집이에요. 3학년은 하루에 한 단어씩...\n",
      "이미지: https://blogthumb.pstatic.net/MjAyNDExMjhfMjAg/MDAxNzMyNzYyMDY2MTQ2.SV0lbzV0JVUX0OueWuxyFjZkd4dEKmehc8pgQi-GE9Ag.jolWJIHqEUuomL75qrRCvkA9xeBL7bXjWkwPDPf7T90g.JPEG/%BE%EE%C8%D6%B7%C2%2C%C3%CA%B5%EE%C7%CA%BC%F6%BE%EE%C8%D6%2C%B9%AE%C7%D8%B7%C2%2C%C3%CA%B5%EE%B9%AE%C7%D8%B7%C2%2C%B9%D9%BA%FC%2C%B9%AE%C7%D8%B7%C2%2C%C0%CC%C1%F6%BD%BA%BF%A1%B5%E0%2C%B1%DB%BE%B2%B1%E2006.JPG?type=s2\n"
     ]
    }
   ],
   "source": [
    "from selenium import webdriver\n",
    "from selenium.webdriver.common.keys import Keys\n",
    "from selenium.webdriver.common.by import By\n",
    "from urllib.request import urlretrieve # URL로 접속해서 내용을 파일로 다운로드\n",
    "import time\n",
    "\n",
    "\n",
    "driver = webdriver.Chrome() # 크롬 브라우저 열기\n",
    "driver.get(\"https://www.naver.com\") # 네이버 웹페이지로 이동\n",
    "\n",
    "time.sleep(3)  #  웹페이지 충분히 다 로드 될때까지 3초 대기\n",
    "\n",
    "# 블로그 링크 선택 \n",
    "menu_items = driver.find_elements(By.CSS_SELECTOR, \".shortcut_list .link_service\")\n",
    "\n",
    "for item in menu_items:\n",
    "    if item.text.find(\"블로그\") != -1: # 현재 링크가 블로그 이면\n",
    "        item.click() # 블로그 메뉴 클릭\n",
    "\n",
    "\n",
    "# 열린 창으로 이동\n",
    "handles = driver.window_handles # 열려 있는 브라우저 창 객체   \n",
    "driver.switch_to.window(handles[1]) # 블로그 창으로 창을 변경!\n",
    "\n",
    "# 현재 창의 모든 HTML 텍스트 데이터 page_source\n",
    "# print(driver.page_source)\n",
    "\n",
    "# 블로그 메뉴 탭 가장 마지막 요소 클릭\n",
    "items = driver.find_elements(By.CSS_SELECTOR, \".navigator_category .item\")\n",
    "item = items[-1] # 가장 마지막 탭을 선택 \n",
    "item.click() # 가장 마지막 탭을 클릭\n",
    "\n",
    "time.sleep(3) # 3초 대기 \n",
    "\n",
    "desc_items = driver.find_elements(By.CSS_SELECTOR, \".list_post_article .item\")\n",
    "\n",
    "for i, desc in enumerate(desc_items):\n",
    " \n",
    "    title_post = desc.find_element(By.CLASS_NAME, \"title_post\") # 제목\n",
    "    text = desc.find_element(By.CLASS_NAME, \"text\") # 내용\n",
    "\n",
    "    img = desc.find_element(By.CLASS_NAME, \"img_post\") # 이미지\n",
    "    img_url = img.get_attribute(\"src\")\n",
    "    # get_attribute(\"속성\")\n",
    "\n",
    "    # 이미지를 D:/blog에 다운로드\n",
    "    urlretrieve(img_url, r\"D:/blog/\" + i + \".png\")\n",
    "\n",
    "    print(\"제목:\", title_post.text)\n",
    "    print(\"내용:\", text.text)\n",
    "    print(\"이미지:\", img_url)\n",
    "    \n",
    "    time.sleep(1)\n",
    "\n",
    "\n"
   ]
  },
  {
   "cell_type": "code",
   "execution_count": null,
   "metadata": {},
   "outputs": [],
   "source": []
  }
 ],
 "metadata": {
  "kernelspec": {
   "display_name": "base",
   "language": "python",
   "name": "python3"
  },
  "language_info": {
   "codemirror_mode": {
    "name": "ipython",
    "version": 3
   },
   "file_extension": ".py",
   "mimetype": "text/x-python",
   "name": "python",
   "nbconvert_exporter": "python",
   "pygments_lexer": "ipython3",
   "version": "3.12.7"
  }
 },
 "nbformat": 4,
 "nbformat_minor": 2
}
