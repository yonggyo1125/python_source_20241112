{
 "cells": [
  {
   "cell_type": "code",
   "execution_count": 16,
   "metadata": {},
   "outputs": [
    {
     "name": "stderr",
     "output_type": "stream",
     "text": [
      "C:\\Users\\admin\\AppData\\Local\\Temp\\ipykernel_20660\\2380975142.py:43: DeprecationWarning: using WebElement.get_attribute() has been deprecated. Please use get_dom_attribute() instead.\n",
      "  img_url = img.get_attribute(\"src\")\n"
     ]
    },
    {
     "name": "stdout",
     "output_type": "stream",
     "text": [
      "제목: 강릉여행 정동진썬크루즈호텔 대만족 내돈내산 후기+헬스장 오션뷰\n",
      "내용: 오랜만에 들고온 국내여행 포스팅 이번에는 강릉으로 1박2일 가족여행을 다녀왔다. 강릉이랑 정동진 썬크루즈호텔이랑 차로 30분 거리인데다, 예전부터 아빠가 가고싶다했던 호텔이라 숙소는 정동진썬크루즈호텔로 결정 📌위치: 강원 강릉시 강동면 헌화로 950-39 📌체크인 15:00 / 체크아웃 11:00 ☎️전화번호: 033-610-7000 🅿️주차가능 📍썬크루즈 호텔&리조트 정보 4성급 호텔 일출명소 CNN 선정 '세계에서 가장 특이한 호텔 TOP13' 추천도 ⭐⭐⭐⭐⭐ 정동진 썬크루즈호텔은 말 그대로 크루즈 배 모양을 하고 있는데 외관이 산꼭대기에 배가 걸쳐있는 모양이라 정말 독특하고 예쁘다. 특히 밤에 멀리서 보면 썬크루즈호텔만 반짝반짝 빛나고 있어서 산 위에 배가 떠 있는 것 같은 느낌이 드는데 약간 이상한 나라의 앨리스 된 기분 체험 가능 나는 밤에 도착해서 야경으로 호텔을 처음 마주했는데 너무 예뻐서 감탄했다. 차로 지나가서 아쉽게도 사진은 없고 공홈 사진으로 대체한다. 아무튼 야무지게 강릉 구경 하고 숙소로 복귀했더니 저녁 7시반 체크인 하러 출발 정동진 썬크루즈호텔 내부 로비가 너무 깔끔하고 멋있게 잘 되어있다. 그리고 극강의 ...\n",
      "이미지: https://blogthumb.pstatic.net/MjAyNDExMjVfMTgx/MDAxNzMyNTEyNzE5OTk3.mTvP0Ys5IFhl32cU70ntNZGeTT7Vrw_rEkLwyKwhHeEg.n9cqsP0pos-q0G_CeYjVFzwFrL5bZ2N2cpS3RbQyMDkg.JPEG/IMG_0478.jpg?type=s2\n",
      "제목: 김천 가볼만한 곳 오봉저수지 둘레길 드림밸리 오색테마공원 산책하기좋은 곳\n",
      "내용: 곳곳에 주차장이 있습니다. 오색테마공원 앞에 주차장이 있고, 큰 대로변을 따라 가시면 소공원에 주차장있고, 오봉대교쪽에 주차장이 있습니다. 오늘 방문한곳은 김천 가볼만한 곳 오봉저수지 둘레길 드림밸리 오색테마공원 산책하기좋은 곳 입니다. 눈이 내리는 김천의 오봉저수지 입니다. 춥다고 아무도 없을줄 알았는데, 산책하시는 분들은 또 열심히 산책을 하시더군요. 오봉저수지 | 드림밸리 오색테마공원 김천8경으로 불리는 오봉저수지 입니다. 원래는 농업용수 공급 목적으로 만들어졌으며, 현재는 오색 테마공원으로 탈바꿈되었습니다. 중앙에 황단데크 와 수변정자, 오봉대교가 있고, 황단데크 앞에 소공원이 있고, 오봉대교에서 김천혁신도시 방향으로 소공원이 있습니다. 그리고 주변에 운남산 정상으로 가는 등산로가 2개(황단데크, 오봉대교) 와 금오산방향과 아포역방향으로 가는 등산로가(오봉대교) 있습니다. 아랫쪽 소공원에는 조형물과 포토존으로 조명이 되어 있어서 가족 단위 나들이 하기좋아 보입니다. 눈이와도 운치있는 오봉저수지 입니다. 여름에는 수상스키를 하러 오는 분들도 있어요. 날이 좋을때는 낚시를 좋아하는 분들이 많이들 방문하는 ...\n",
      "이미지: https://blogthumb.pstatic.net/MjAyNDExMjhfMTc2/MDAxNzMyNzY5OTYxMjAy.hBMiHz31YqRjFbImxKqK_1LybG5bbx6bklkMblBcE30g.gq3j3Gbb0V8WrOgx3udgqLjzEQcBIl9XQEXR9Vmxt84g.PNG/%B1%E8%C3%B5_%BF%C0%BA%C0%C0%FA%BC%F6%C1%F6.png?type=s2\n",
      "제목: 대구피부관리샵 유에보에스테틱 동성로 작은얼굴 만들기\n",
      "내용: 대구 중구 / 동성로 대구피부관리샵 유에보에스테틱 동성로 작은얼굴 만들기 꿀하! 안녕하세요. 임꿀이에요. 요즘 사진 찍을 때마다 피부 상태나 얼굴이 영 말이 아닌 것 같더라고요. ㅠㅠ 이제 관리를 좀 받아야겠구나 싶어서 동성로 작은얼굴 만들기로 유명한 대구피부관리샵 유에보에스테틱에 방문했어요. 유에보에스테틱 📞 0507-1383-0022 📍대구 중구 중앙대로 435 2층 216호 ✅매일 10:00 - 21:00 ✅예약, 무선 인터넷, 남/여 화장실 구분, 대기공간 ✅지하철 1호선 중앙로 역 4번 출구 01. 대구피부관리샵 유에보에스테틱을 소개합니다. 유에보에스테틱은 얼굴형이나 턱선 라임, 얼굴 크기, 붓기가 고민인분들을 위한 맞춤형 대구피부관리샵으로 13년동안 피부관리 연구를 하신 원장님께서 1:1 관리를 해주시는 곳이에요. 특히 얼굴 윤곽, 작은얼굴 만들기로 효과가 확실하답니다. 임꿀은 이번에 윤곽 관리는 처음 받아봤는데 원장님의 전문적인 손길로 효과 확실하게 작은얼굴 만들기를 받고 왔습니다. 한 번 만에 효과가 눈에 띄게 보여서 관리받기 귀찮아하는(?) 저도 꾸준히 다녀야겠다고 생각이 들 정도였어요. 02. 예약, 위치 임꿀은 네이버 예약으로 예약...\n",
      "이미지: https://blogthumb.pstatic.net/MjAyNDExMjdfMTIz/MDAxNzMyNzE3MTUxMDU5.6zayGtQXYv0fsjN133r2PJr0LaTrxD7RGMpezkKEemcg.fD0gDa9hE12vg-s_cFxRv7OT1fl0f5f5qzrvCyXjbeEg.PNG/%B4%EB%B1%B8%C7%C7%BA%CE%B0%FC%B8%AE%BC%A5-%C0%AF%BF%A1%BA%B8%BF%A1%BD%BA%C5%D7%C6%BD-%B5%BF%BC%BA%B7%CE-%C0%B1%B0%FB%B0%FC%B8%AE%B4%C2-%BF%A9%B1%E2-001.png?type=s2\n",
      "제목: 가평 더스테이힐링파크 조식 키친 메뉴 시간 요금 정보\n",
      "내용: 가비츄입니당💛🧡 오늘 가비츄는 가평더스테이 힐링파크 조식 후기를 가져왔어요 💛 볼거리가 많았던 가평 숙소로, 가평 더스테이힐링파크 숙소 정보는 이후에 이어서 올릴게요~! 숙소 중 가장 궁금에 하시는 가평 더스테이힐링파크 조식 메뉴 후기 꼬고! 💌가평 더스테이 힐링파크 조식 메뉴 맛보기 영상💌 분명 입실할 때 시리얼이나 간단한 샐러드 준비되어있다고 안내되어있어서 그런가보다! 하고 조금만 먹으려고 한게 이렇게 🤣🧡🧡 가평 더스테이힐링파크 조식 ✅ 위치 : 경기 가평군 설악면 한서로268번길 157 나인블럭키친 건물 가평 더스테이힐링파크에서 1박 2일 여행 중 먹었던 조식 메뉴! 조식 기본정보 ✅ 운영시간 8:00- 10:00 ✅ 요금 1인 19,000원 * 멤버스 카드로 결제시 20%할인 * 추가 결제는 프런트 데스크에서 가능 ✅ 전화번호 031-580-3800 ✅ 주의사항 외부 음식 반입 제한 내부 음식 반출 제한 숙박 시설과 함께 조식도 예약해서 입실 할 때 조식 뷔페 이용권을 받았어요! 1인 1회 사용 가능 입장 마감은 오전 9시30분이니 늦지 않게 방문하세요! 메뉴 그럼 가장 궁금해하시는 조식 메뉴 퀄리티는? 사이드 메뉴 기본 샐러드 있고! ...\n",
      "이미지: https://blogthumb.pstatic.net/MjAyNDExMjhfMTYg/MDAxNzMyNzY4NTMwMDg4.zjvLqCoL-34l_6w3VBJ4QumVzfK2d-ojBLkoEwuK5eQg.YVeNYFc4AYhkCmsQUQj7eB1tleHte3QBSayOzIAAKiAg.PNG/%C1%A6%B8%F1%C0%BB-%C0%D4%B7%C2%C7%D8%C1%D6%BC%BC%BF%E4_-001_%2818%29.png?type=s2\n",
      "제목: 홍천 은행나무숲 단풍 풍경 칡소폭포\n",
      "내용: 홍천 은행나무숲을 아세요? 1년에 딱 한 번, 10월에만 한시적으로 일반에 공개하는 홍천 은행나무숲은 홍천의 숨은 비경인데요, 올해는 단풍이 늦어서 3일 연장해 11월 3일까지 개방했어요. 2010년부터 개방했다는데 올해 처음 알게 돼, 개방 마지막 날 방문할 수 있었어요. 예정대로라면 이날 은행나무 단풍이 절정이어야 했는데요, 하루 전에 내린 비와 강한 바람으로 은행잎이 많이 떨어져 있었어요. 그래도 단풍나무 단풍이 절정을 이뤄 아름다움을 담당했고, 나뭇가지가 아닌 바닥에 떨어져 쌓인 은행잎도 가을 정취를 가득 채워줘 멀리 찾아간 보람이 있었어요. 홍천 은행나무숲에서 3.4km 거리에 있는 칡소폭포도 함께 탐방했는데요, 이곳에 은행나무숲이 조성된 연유를 알아보고, 단풍 풍경을 보여드릴게요. 홍천 은행나무숲 강원 홍천군 내면 광원리 686-2 개방 날짜: 2024. 10. 1~11. 3(10. 31에서 3일 연장) 개방 시간: 10:00~17:00 탐방 날짜: 11월 3일 입장료 무료 문의 및 안내: 내면사무소 033-430-4505 애완동물 입장 불가 서울양양고속도로를 달리다가 서양양lc에서 나와 구불구불 오르막길을 한없이 올라 정상에 이릅니다. 홍천 은행나무숲에 가려면 해발 1...\n",
      "이미지: https://blogthumb.pstatic.net/MjAyNDExMDRfNjcg/MDAxNzMwNjU3NTQyNjA1.wW89MMj91YJQaZrLkuBt9PL3A-ig3Iy5DYoZ0n1YOJMg.AEB5EUx1yPOVNvXIYYIVkmKGt5CnWN4FNG_hRcMGZzcg.JPEG/1730657527867.jpg?type=s2\n",
      "제목: 추운 겨울 제주도 여행지 추천 제주 서쪽 동쪽 여행 코스 효도여행 혼자여행 커플여행 등 누구나 갈만한곳\n",
      "내용: 겨울철 제주도 여행을 하게되면 꽃놀이와 실내, 쉽고 재빨리 볼 수 있는 자연 경관을 선호하게 됩니다. 긴 시간동안 바깥활동을 하기에는 다소 바람이 많이 불어 힘들수도 있겠어요. 특히, 아이들과 여행한다면 더욱이 그러할듯합니다. 그래서 오늘은 제주 서쪽 동쪽 여행 코스로 추울때 들리기 좋은 제주도 여행 추천을 해드릴께요. 1. 동백포레스트 겨울 제주 효도 여행으로 들리기에 좋을만한 동백포레스트는 겨울에만 피는 동백을 원없이 구경할 수 있기에 12월 1월 시즌에 관광객분들의 발길이 잦은 곳입니다. 몽글몽글한 동백나무들이 인상적이었어요. 서귀포 갈만한곳으로 들리기에 좋을만한 제주도 여행 추천 코스입니다. 곳곳에는 의자와 벤치들이 있어서 포토스팟을 이루고 있었어요. 아이들과 방문했는데, 겨울 제주 효도여행으로 들리기에도 좋을듯 했습니다. 추운날에는 야외활동을 하기가 조금 그렇긴 하지만, 동백포레스트에서 제주동백은 구경해보고 싶어서 들려보았던 제주 동쪽 여행코스였어요. 바로 옆에는 제주동백수목원도 있어서 둘 중 한곳을 선택하여 관람하시기 바랄께요. 2. 제주홀릭뮤지엄 제주도 여행 추천으로 온가족이 재미있게 놀 수 있었던 ...\n",
      "이미지: https://blogthumb.pstatic.net/MjAyNDExMjhfMjk4/MDAxNzMyNzU3OTM2MTU1.YngE0VaujKv-Dr3rfbIkL2REcWEpH5bCiQZS0PTC6e0g.8QkRri18oRZytXpZ4PNinE0x1WPH4Xh45C_qdyfY4Bog.JPEG/20221205_135522_009.jpg?type=s2\n",
      "제목: 이마트 스타세일 전단 창립 31주년 세일 품목 11.29~12.5\n",
      "내용: 이마트 스타세일 전단 창립 31주년 세일 품목 11.29~12.5 이번달 초 열렸던 이마트의 쓱데이가 끝난지 아직 한달이 채 되지 않았는데 이마트에서 다시 한번 세일을 진행합니다. 바로 창립 31주년 스타세일인데요. 이마트가 벌써 창립 31주년이라니 놀랍네요. 기간은 11월 29일부터 12월 5일까지 일주일동안 진행됩니다. 내일부터 시작이 되니 미리 미리 할인 품목을 확인하시고 구매할 제품이 있으시다면 서둘러 구매하시는게 좋으실 것 같네요. 이번에도 다양한 행사 할인 제품들이 준비되어 있습니다. 피에트로 코리첼리 올리브오일 500ml 9,980원 구매가능하구요. 빙그레 바나나우유, 햇반, 오뚜기 갈릭 치즈크러스트 피자, 훈제오리를 할인가로 만나보실 수 있어요. 또 크리넥스 화장지를 1+1 한다고 해요. 안그래도 휴지를 구매할 때가 되었는데 1+1한다고 하니 전 이건 꼭 구매해야겠네요. 게다가 전기요도 너무 저렴해요. 29,900원이란 필요하신 분은 이번기회에 득템하시길 바래요. 이마트 단독으로 진행되는 CJ비비고 통오징어만두 행사입니다. 비비고에서 통오징어만두도 나왔나보네요. 비비고 만두 제품은 다 맛있어서 한번 구매해서 먹어봐야겠네요. 캠핑 좋아...\n",
      "이미지: https://blogthumb.pstatic.net/MjAyNDExMjhfMjY3/MDAxNzMyNzU3Njk0MzE0.WWBEJQHSraRbLRlOIydFXDaw2xjqopr0aoMKr5LCnWAg.y_QKBWEosr5LMBBgl-Iil0unzuUzmrqOyxIKUguNidgg.PNG/01.png?type=s2\n",
      "제목: 남해 멸치쌈밥맛집 경남베스트5 선정된 재두식당\n",
      "내용: 남해 멸치쌈밥맛집 경남 베스트5 선정된 재두식당 중소벤처기업부 인증백년가게 백년가게는 30년이상을 명맥을 유지하면서 오래도록 고객의 꾸준한 사랑을 받아온 점포 가운데, 중소벤처기업부에서 그 우수성과 성장 가능성을 높게 평가 받아서 공식 인증받은 점포로 경남 맛집 베스트5에 선정된 곳이랍니다 재두식당 한식 경남 남해군 상주면 남해대로 918-6 055-862-6022 Open 오전11시 Close 오후 2시 30분 정기휴무일 월,화요일 주차 전용주차장 식객허영만의 백반기행 임시휴무안내 12월 11일(수)~12월 15일(일) 김장 준비 및 김장으로 인해 휴무하오니 참고해주세요 저희는 남해로 자주로 여행을 가는것 같아요 숙박도 가끔하지만 당일로 다녀오는 때가 많은것 같아요 이날도 토요일에 갑자기 신랑이 조기퇴근을 해서 갑자기 드라이브 삼아 남해나 다녀올까해서 아무 계획없이 떠나왔답니다 재두식당에 몇번이나 왔는데 헛걸음 할때가 많았답니다 월요일, 화요일은 정기휴무일이고 11시에 오픈해서 오후 2시 30분이면 마감이 되다보니 돌아갔던 못먹었던 기억이 많으네요 토요일이고 12시가 조금 지났기에 오늘은 먹을수 있겠다 싶어서 신나게 고고씽하였답니다 남해 ...\n",
      "이미지: https://blogthumb.pstatic.net/MjAyNDExMjhfMTcy/MDAxNzMyNzQ2MTUxNjkw.1f72wckyk3t0lg2hi-vuQhzRpQhlrcuHlhVzHZrrvSkg.1uMzR7333czS4sTx6OndYKLD7lYEoQooBv-df0SoybMg.JPEG/480%A3%DF20241128%A3%DF072224.jpg?type=s2\n",
      "제목: 경남 남해 데이트코스 추천 포토스팟 히든스팟 별해로\n",
      "내용: 안녕하세요. 영영부부 입니다. 오늘은 경남 남해 데이트 코스 추천 포토스팟 히든스팟 최고의 스팟 드라이브하기에도 좋은 코스 남해 창선에 위치한 별해로를 소개합니다. 남해 별해로 🏠 주소 경남 남해군 창선면 흥선로 544 ⏰️ 운영시간 상시 운영 🚙 주차장 전용 주차장 오늘의 남해 데이트 코스 추천 1. 별해로 2. 모스트화덕피자 3. 카페더힐스 진입로 및 주차 창선대교 옆 해안도로를 따라 쭉 가다 보면 우측에 별해로가 있습니다. 진입로를 따라 조금만 올라가면 넓은 주차장과 깨끗하게 관리되고 있는 화장실이 있습니다. 입장료 무료에 주차장과 화장실 편하게 이용할 수 있다니 남해군 최고입니다 👍 영영부부의 데이트를 위해 오늘 별해로를 하루 전체로 빌렸습니다. 송대관 아닌 통대관~! 별해로 남해 데이트 코스 별해로는 고사리(별) 바다(해) 길(로)이라는 뜻으로 이루어진 이름으로 고사리 언덕과 바다를 경험하는 여정이라는 의미를 담고 있습니다. 산책로를 따라 바다, 하늘, 바람과 함께 펼쳐지는 고사리 언덕을 극적으로 경험할 수 있는 기회를 제공하니 데이트할 때 꼭 경험해 보시길 추천드립니다. 산책길 산책길을 따라 올라가 봅니다. 조금만...\n",
      "이미지: https://blogthumb.pstatic.net/MjAyNDExMjdfMjg3/MDAxNzMyNjk5ODU1MDcy.WTZU920lu7wN_0BbMQgbcm98IJQlZ5tQPUIWMQGMy4Qg.68Xw4BOsKtG8d9OJXzflZvWctQmoU7JEGxhpuEulNE4g.PNG/900%A3%DF%BF%A9%C7%E0_%BB%E7%C1%F8_%B9%E8%B0%E6_%B1%B9%B3%BB%BF%A9%C7%E0_%C3%DF%C3%B5_%C0%E5%BC%D2_%C0%CE%BD%BA%C5%B8%B1%D7%B7%A5_%B0%D4%BD%C3%B9%B0%A3%DF20241127%A3%DF180238%A3%DF0000.png?type=s2\n",
      "제목: 제주 신신호텔 제주오션 가성비 호텔 강력추천 후기!\n",
      "내용: 안녕하세요! 오늘은 제주여행 시 2박을 머물렀던 제주 신신호텔 제주오션점 후기를 진행하고자 합니다. 2박에 8만원 정도에 예약했고 가격이 저렴하고 방도 넓고 올레시장, 제주약수터 등 저희가 갈려고 했던 맛집들이 많아서 예약하게 된 숙소입니다. 가격이 4만원대로 매우 저렴합니다 제주에 이렇게 많은 신신호텔지점이 있답니다. 지하 주차장은 주차하기에 매우 넓은점이 메리트 있었고 로비에는 편의점도 있어서 좋더라구요. 현관도 매우 넓고 커피포트에 냉장고도 엄청 크고 드럼세탁기까지 있어서 세탁을 할수도 있어서 매우 좋습니다. 세제가 없는점은 조금 아쉽긴 하지만요 세면대와 변기 샤워실이 별도로 구분되어 있어 너무나도 좋았습니다. 냉장고는 평상시 묵던호텔과는 별개로 정말 많은것을 보관할수 있어 좋았습니다. 생수 2병 기본 제공해주십니다. 저상형 침대 그리고 쇼파 큰 TV에 저멀리 바다가 보이는 뷰 정말 가성비 숙소이더라구요. 잠을잘수있는 공간과 쇼파가 있는 공간을 가벽을 두고 공간분리를 할수 있는 점도 매우 메리트가 있었습니다. 저녁에 맥주한잔 사와서 먹었는데 이렇게 넓은 호텔이라 편안하게 먹을수 있어서 너무 좋았습니다. 숙소...\n",
      "이미지: https://blogthumb.pstatic.net/MjAyNDExMTZfOTIg/MDAxNzMxNzUzNDI0MTY4.KkrZW_S2S1RMlrN44Aig1413QX0Yi1jeymdfTq88pGQg.0bWMzZgE8Tb8Z9hvimzmQYGGM7A1a8--2TpAgLVXuIAg.JPEG/900%A3%DF20240929%A3%DF151646.jpg?type=s2\n"
     ]
    }
   ],
   "source": [
    "from selenium import webdriver\n",
    "from selenium.webdriver.common.keys import Keys\n",
    "from selenium.webdriver.common.by import By\n",
    "from urllib.request import urlretrieve # URL로 접속해서 내용을 파일로 다운로드\n",
    "import time\n",
    "\n",
    "\n",
    "driver = webdriver.Chrome() # 크롬 브라우저 열기\n",
    "driver.get(\"https://www.naver.com\") # 네이버 웹페이지로 이동\n",
    "\n",
    "time.sleep(3)  #  웹페이지 충분히 다 로드 될때까지 3초 대기\n",
    "\n",
    "# 블로그 링크 선택 \n",
    "menu_items = driver.find_elements(By.CSS_SELECTOR, \".shortcut_list .link_service\")\n",
    "\n",
    "for item in menu_items:\n",
    "    if item.text.find(\"블로그\") != -1: # 현재 링크가 블로그 이면\n",
    "        item.click() # 블로그 메뉴 클릭\n",
    "\n",
    "\n",
    "# 열린 창으로 이동\n",
    "handles = driver.window_handles # 열려 있는 브라우저 창 객체   \n",
    "driver.switch_to.window(handles[1]) # 블로그 창으로 창을 변경!\n",
    "\n",
    "# 현재 창의 모든 HTML 텍스트 데이터 page_source\n",
    "# print(driver.page_source)\n",
    "\n",
    "# 블로그 메뉴 탭 가장 마지막 요소 클릭\n",
    "items = driver.find_elements(By.CSS_SELECTOR, \".navigator_category .item\")\n",
    "item = items[-1] # 가장 마지막 탭을 선택 \n",
    "item.click() # 가장 마지막 탭을 클릭\n",
    "\n",
    "time.sleep(3) # 3초 대기 \n",
    "\n",
    "desc_items = driver.find_elements(By.CSS_SELECTOR, \".list_post_article .item\")\n",
    "\n",
    "for i, desc in enumerate(desc_items):\n",
    " \n",
    "    title_post = desc.find_element(By.CLASS_NAME, \"title_post\") # 제목\n",
    "    text = desc.find_element(By.CLASS_NAME, \"text\") # 내용\n",
    "\n",
    "    img = desc.find_element(By.CLASS_NAME, \"img_post\") # 이미지\n",
    "    img_url = img.get_attribute(\"src\")\n",
    "    # get_attribute(\"속성\")\n",
    "\n",
    "    # 이미지를 D:/blog에 다운로드\n",
    "    urlretrieve(img_url, r\"D:/blog/\" + str(i) + \".png\")\n",
    "\n",
    "    print(\"제목:\", title_post.text)\n",
    "    print(\"내용:\", text.text)\n",
    "    print(\"이미지:\", img_url)\n",
    "    \n",
    "    time.sleep(1)\n",
    "\n",
    "\n"
   ]
  },
  {
   "cell_type": "code",
   "execution_count": null,
   "metadata": {},
   "outputs": [],
   "source": []
  }
 ],
 "metadata": {
  "kernelspec": {
   "display_name": "base",
   "language": "python",
   "name": "python3"
  },
  "language_info": {
   "codemirror_mode": {
    "name": "ipython",
    "version": 3
   },
   "file_extension": ".py",
   "mimetype": "text/x-python",
   "name": "python",
   "nbconvert_exporter": "python",
   "pygments_lexer": "ipython3",
   "version": "3.12.7"
  }
 },
 "nbformat": 4,
 "nbformat_minor": 2
}
