{
 "cells": [
  {
   "cell_type": "code",
   "execution_count": 5,
   "metadata": {},
   "outputs": [],
   "source": [
    "import requests\n",
    "from bs4 import BeautifulSoup as bs\n",
    "url = \"https://finance.naver.com\"\n",
    "response = requests.get(url)\n",
    "html_text = response.text\n",
    "soup = bs(html_text, 'html.parser')"
   ]
  },
  {
   "cell_type": "code",
   "execution_count": 13,
   "metadata": {},
   "outputs": [
    {
     "name": "stdout",
     "output_type": "stream",
     "text": [
      "['58,300', '400', '+0.69%']\n"
     ]
    }
   ],
   "source": [
    "# 삼성전자 증권 정보 추출 하시오!\n",
    "items = soup.select(\"#_topItems1 tr\") # id - #아이디명, class - .클래스명\n",
    "data = [] # list()\n",
    "for item in items:\n",
    "    title = item.select_one(\"th a\").get_text().strip()\n",
    "    if title.find(\"삼성전자\") != -1: # 삼성전자 증권 정보이면\n",
    "        tds = item.select(\"td\")\n",
    "        data.append(tds[0].get_text().strip()) # 1주 얼마\n",
    "        \n",
    "        changed = tds[1].get_text().strip().split()[1]\n",
    "        percent = tds[2].get_text().strip()\n",
    "\n",
    "        data.append(changed)\n",
    "        data.append(percent)\n",
    "\n",
    "print(data) "
   ]
  }
 ],
 "metadata": {
  "kernelspec": {
   "display_name": "base",
   "language": "python",
   "name": "python3"
  },
  "language_info": {
   "codemirror_mode": {
    "name": "ipython",
    "version": 3
   },
   "file_extension": ".py",
   "mimetype": "text/x-python",
   "name": "python",
   "nbconvert_exporter": "python",
   "pygments_lexer": "ipython3",
   "version": "3.12.7"
  }
 },
 "nbformat": 4,
 "nbformat_minor": 2
}
