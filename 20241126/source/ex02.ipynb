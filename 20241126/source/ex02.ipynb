{
 "cells": [
  {
   "cell_type": "code",
   "execution_count": 5,
   "metadata": {},
   "outputs": [],
   "source": [
    "import requests\n",
    "from bs4 import BeautifulSoup as bs\n",
    "url = \"https://finance.naver.com\"\n",
    "response = requests.get(url)\n",
    "html_text = response.text\n",
    "soup = bs(html_text, 'html.parser')"
   ]
  },
  {
   "cell_type": "code",
   "execution_count": null,
   "metadata": {},
   "outputs": [
    {
     "name": "stdout",
     "output_type": "stream",
     "text": [
      "KODEX 200선물인버스2X\n",
      "삼부토건\n",
      "쓰리빌리언\n",
      "KODEX 코스닥150선물인버스\n",
      "썸에이지\n",
      "KODEX 코스닥150레버리지\n",
      "삼성 인버스 2X WTI원유 선물 ETN\n",
      "한국패러랠\n",
      "상보\n",
      "위츠\n",
      "삼성전자\n",
      "일승\n",
      "하이드로리튬\n",
      "지오릿에너지\n",
      "KODEX 인버스\n"
     ]
    }
   ],
   "source": [
    "# 삼성전자 증권 정보 추출 하시오!\n",
    "items = soup.select(\"#_topItems1 tr\") # id - #아이디명, class - .클래스명\n",
    "for item in items:\n",
    "    title = item.select_one(\"th a\").get_text().strip()\n",
    "    if title.find(\"삼성전자\") != -1: # 삼성전자 증권 정보이면\n",
    "        print(item)\n",
    "    "
   ]
  }
 ],
 "metadata": {
  "kernelspec": {
   "display_name": "base",
   "language": "python",
   "name": "python3"
  },
  "language_info": {
   "codemirror_mode": {
    "name": "ipython",
    "version": 3
   },
   "file_extension": ".py",
   "mimetype": "text/x-python",
   "name": "python",
   "nbconvert_exporter": "python",
   "pygments_lexer": "ipython3",
   "version": "3.12.7"
  }
 },
 "nbformat": 4,
 "nbformat_minor": 2
}
