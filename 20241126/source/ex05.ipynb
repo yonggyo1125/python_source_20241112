{
 "cells": [
  {
   "cell_type": "code",
   "execution_count": 4,
   "metadata": {},
   "outputs": [],
   "source": [
    "from selenium import webdriver\n",
    "from selenium.webdriver.common.by import By\n",
    "from urllib.request import urlretrieve\n",
    "import time\n",
    "\n",
    "driver = webdriver.Chrome() # 크롬 브라우저 열기 \n",
    "driver.get(\"https://news.naver.com/section/105\")\n",
    "\n",
    "time.sleep(3)\n",
    "\n",
    "# 헤드라인 쪽 이미지를 다운 받아서 D:/news 저장 \n",
    "# .as_headline .sa_thumb_link img\n",
    "\n",
    "images = driver.find_elements(By.CSS_SELECTOR, \".as_headline .sa_thumb_link img\")\n",
    "for i, image in enumerate(images):\n",
    "    img_url = image.get_dom_attribute(\"src\")\n",
    "    urlretrieve(img_url, r\"D:/news/\" + str(i) + \".png\")\n",
    "    time.sleep(1)\n",
    "\n"
   ]
  }
 ],
 "metadata": {
  "kernelspec": {
   "display_name": "base",
   "language": "python",
   "name": "python3"
  },
  "language_info": {
   "codemirror_mode": {
    "name": "ipython",
    "version": 3
   },
   "file_extension": ".py",
   "mimetype": "text/x-python",
   "name": "python",
   "nbconvert_exporter": "python",
   "pygments_lexer": "ipython3",
   "version": "3.12.7"
  }
 },
 "nbformat": 4,
 "nbformat_minor": 2
}
