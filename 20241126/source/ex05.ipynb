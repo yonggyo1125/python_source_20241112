{
 "cells": [
  {
   "cell_type": "code",
   "execution_count": null,
   "metadata": {},
   "outputs": [],
   "source": [
    "from selenium import webdriver\n",
    "from selenium.webdriver.common.by import By\n",
    "from urllib.request import urlretrieve\n",
    "import time\n",
    "\n",
    "driver = webdriver.Chrome() # 크롬 브라우저 열기 \n",
    "driver.get(\"https://news.naver.com/section/105\")\n",
    "\n",
    "time.sleep(3)\n",
    "\n",
    "# 헤드라인 쪽 이미지를 다운 받아서 D:/news 저장 "
   ]
  }
 ],
 "metadata": {
  "kernelspec": {
   "display_name": "base",
   "language": "python",
   "name": "python3"
  },
  "language_info": {
   "name": "python",
   "version": "3.12.7"
  }
 },
 "nbformat": 4,
 "nbformat_minor": 2
}
