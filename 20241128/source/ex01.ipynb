{
 "cells": [
  {
   "cell_type": "code",
   "execution_count": 2,
   "metadata": {},
   "outputs": [
    {
     "name": "stdout",
     "output_type": "stream",
     "text": [
      "\n",
      "park 800905-*******\n",
      "kim  700905-*******\n",
      "\n"
     ]
    }
   ],
   "source": [
    "import re  # 정규표현식 패키지 re\n",
    "\n",
    "data = \"\"\"\n",
    "park 800905-1049118\n",
    "kim  700905-1059119\n",
    "\"\"\"\n",
    "\n",
    "p = re.compile(r\"(\\d{6})[-]\\d{7}\")\n",
    "print(p.sub(r\"\\g<1>-*******\", data))"
   ]
  },
  {
   "cell_type": "code",
   "execution_count": 7,
   "metadata": {},
   "outputs": [
    {
     "data": {
      "text/plain": [
       "<re.Match object; span=(0, 1), match='m'>"
      ]
     },
     "execution_count": 7,
     "metadata": {},
     "output_type": "execute_result"
    }
   ],
   "source": [
    "p = re.compile(\"[abcm]\") # 문자 클래스 [abc], a 한개, b한개, c한개\n",
    "p.match(\"apple\")\n",
    "p.match(\"banana\")\n",
    "p.match(\"mango\")"
   ]
  },
  {
   "cell_type": "code",
   "execution_count": 11,
   "metadata": {},
   "outputs": [
    {
     "data": {
      "text/plain": [
       "<re.Match object; span=(0, 1), match='C'>"
      ]
     },
     "execution_count": 11,
     "metadata": {},
     "output_type": "execute_result"
    }
   ],
   "source": [
    "p = re.compile(\"[a-zA-Z]\")  # 알파벳 소문자 a~z 범위와 A~Z 범위의 알파벳 하나 하나\n",
    "p.match(\"Cat\")"
   ]
  },
  {
   "cell_type": "code",
   "execution_count": 19,
   "metadata": {},
   "outputs": [
    {
     "data": {
      "text/plain": [
       "<re.Match object; span=(0, 1), match='!'>"
      ]
     },
     "execution_count": 19,
     "metadata": {},
     "output_type": "execute_result"
    }
   ],
   "source": [
    "# p = re.compile(\"[0-9]\") # 숫자 0 ~ 9 사이 숫자 하나 하나\n",
    "# p = re.compile(\"\\\\d\") # \\는 이스케이프 문자 -> 제거 \\d -> d, \\\\d -> \\d\n",
    "# p = re.compile(\"[^0-9]\") # 숫자가 아닌 모든 문자 [^문자1... ] 문자1가 아닌 패턴\n",
    "# p = re.compile(\"\\\\D\")\n",
    "p = re.compile(r\"\\D\")\n",
    "# p.match(\"123ab\")\n",
    "p.match(\"!a123\")\n"
   ]
  },
  {
   "cell_type": "code",
   "execution_count": null,
   "metadata": {},
   "outputs": [
    {
     "data": {
      "text/plain": [
       "<re.Match object; span=(0, 1), match='1'>"
      ]
     },
     "execution_count": 23,
     "metadata": {},
     "output_type": "execute_result"
    }
   ],
   "source": [
    "# p = re.compile(r\"\\s\")  # [\\s\\n\\t\\f\\r]\n",
    "p = re.compile(r\"\\S\")  # 공백 문자가 아닌 모든 문자\n",
    "p.match(\"\"\"\n",
    "\n",
    "\n",
    "\n",
    "\"\"\")"
   ]
  },
  {
   "cell_type": "code",
   "execution_count": 31,
   "metadata": {},
   "outputs": [
    {
     "data": {
      "text/plain": [
       "<re.Match object; span=(0, 5), match='abbbb'>"
      ]
     },
     "execution_count": 31,
     "metadata": {},
     "output_type": "execute_result"
    }
   ],
   "source": [
    "# p = re.compile(\"a.b\")\n",
    "# p = re.compile(\"a...b\")  # \\n을 제외한 3개의 모든 문자\n",
    "p = re.compile(\"a.{3}b\")  \n",
    "# p.match(\"a!b\")\n",
    "p.match(\"abbbb\")"
   ]
  },
  {
   "cell_type": "code",
   "execution_count": null,
   "metadata": {},
   "outputs": [
    {
     "data": {
      "text/plain": [
       "<re.Match object; span=(0, 5), match='a   b'>"
      ]
     },
     "execution_count": 29,
     "metadata": {},
     "output_type": "execute_result"
    }
   ],
   "source": [
    "data = \"\"\"a \n",
    "b\n",
    "\"\"\"\n",
    "p.match(data) # a\\nb \n",
    "\n",
    "\n",
    "data = \"a   b\"  # a\\tb\n",
    "p.match(data)"
   ]
  },
  {
   "cell_type": "code",
   "execution_count": 39,
   "metadata": {},
   "outputs": [
    {
     "data": {
      "text/plain": [
       "<re.Match object; span=(0, 10), match='0161001000'>"
      ]
     },
     "execution_count": 39,
     "metadata": {},
     "output_type": "execute_result"
    }
   ],
   "source": [
    "# 휴대폰 번호 검증 패턴 \n",
    "# 010-1000-1000, 016.100.1000, 0111001000\n",
    "# p = re.compile(r\"01[016]\\D{0,1}\\d{3,4}\\D{0,1}\\d{4}\")  # 010, 011, 016\n",
    "p = re.compile(r\"01[016]\\D?\\d{3,4}\\D?\\d{4}\")\n",
    "p.match(\"0161001000\")"
   ]
  },
  {
   "cell_type": "code",
   "execution_count": 38,
   "metadata": {},
   "outputs": [
    {
     "data": {
      "text/plain": [
       "<re.Match object; span=(0, 6), match='ABABAB'>"
      ]
     },
     "execution_count": 38,
     "metadata": {},
     "output_type": "execute_result"
    }
   ],
   "source": [
    "p = re.compile(r\"(AB){2,}\") # AB라는 패턴을 2번 이상 반복\n",
    "p.match(\"ABABAB\")"
   ]
  },
  {
   "cell_type": "code",
   "execution_count": null,
   "metadata": {},
   "outputs": [
    {
     "name": "stdout",
     "output_type": "stream",
     "text": [
      "None\n",
      "None\n",
      "<re.Match object; span=(0, 3), match='g1h'>\n",
      "None\n",
      "<re.Match object; span=(0, 3), match='1ab'>\n"
     ]
    }
   ],
   "source": [
    "words = [\"abc\", \"def\", \"g1h\", \"ijk\", \"1ab\"]\n",
    "# p = re.compile(r\".*\\d.*\")  # 숫자가 포함된 패턴\n",
    "p = re.compile(r\"\\d\")\n",
    "for word in words:\n",
    "    # print(p.match(word))\n",
    "    print(p.search(word)) # .*\\d.*  : 숫자가 포함된 패턴으로 전체에서 체크"
   ]
  }
 ],
 "metadata": {
  "kernelspec": {
   "display_name": "base",
   "language": "python",
   "name": "python3"
  },
  "language_info": {
   "codemirror_mode": {
    "name": "ipython",
    "version": 3
   },
   "file_extension": ".py",
   "mimetype": "text/x-python",
   "name": "python",
   "nbconvert_exporter": "python",
   "pygments_lexer": "ipython3",
   "version": "3.12.7"
  }
 },
 "nbformat": 4,
 "nbformat_minor": 2
}
