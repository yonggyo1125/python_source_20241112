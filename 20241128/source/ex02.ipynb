{
 "cells": [
  {
   "cell_type": "code",
   "execution_count": 11,
   "metadata": {},
   "outputs": [],
   "source": [
    "import requests\n",
    "\n",
    "url = \"https://news.naver.com\"\n",
    "\n",
    "response = requests.get(url)\n",
    "\n",
    "html_text = response.text"
   ]
  },
  {
   "cell_type": "code",
   "execution_count": null,
   "metadata": {},
   "outputs": [
    {
     "name": "stdout",
     "output_type": "stream",
     "text": [
      "<re.Match object; span=(269429, 269592), match='<img loading=\\'lazy\\' data-src=\"https://mimgnews.>\n",
      "<re.Match object; span=(271607, 271770), match='<img loading=\\'lazy\\' data-src=\"https://mimgnews.>\n",
      "<re.Match object; span=(273792, 273955), match='<img loading=\\'lazy\\' data-src=\"https://mimgnews.>\n",
      "<re.Match object; span=(275992, 276155), match='<img loading=\\'lazy\\' data-src=\"https://mimgnews.>\n",
      "<re.Match object; span=(281457, 281620), match='<img loading=\\'lazy\\' data-src=\"https://mimgnews.>\n",
      "<re.Match object; span=(283718, 283881), match='<img loading=\\'lazy\\' data-src=\"https://mimgnews.>\n",
      "<re.Match object; span=(285987, 286150), match='<img loading=\\'lazy\\' data-src=\"https://mimgnews.>\n",
      "<re.Match object; span=(288259, 288422), match='<img loading=\\'lazy\\' data-src=\"https://mimgnews.>\n"
     ]
    }
   ],
   "source": [
    " # <img src=\"https://s.pstatic.net/static/www/mobile/edit/20230516_0/upload_1684217675277OZzsu.gif\" width=\"58\" height=\"58\" alt=\"NAVER\">\n",
    "import re\n",
    "\n",
    "pattern = r\"<img.*src=['\\\"][^'\\\"]*['\\\"][^>]*>\"\n",
    "\n",
    "p = re.compile(pattern)\n",
    "\n",
    "# print(p.search(html_text))\n",
    "\n",
    "# images = p.findall(html_text)\n",
    "#for image in images:\n",
    "#    print(image)\n",
    "\n",
    "itr = p.finditer(html_text)\n",
    "for m in itr:\n",
    "    print(m)  # group(), span(), start(), end()\n"
   ]
  }
 ],
 "metadata": {
  "kernelspec": {
   "display_name": "base",
   "language": "python",
   "name": "python3"
  },
  "language_info": {
   "codemirror_mode": {
    "name": "ipython",
    "version": 3
   },
   "file_extension": ".py",
   "mimetype": "text/x-python",
   "name": "python",
   "nbconvert_exporter": "python",
   "pygments_lexer": "ipython3",
   "version": "3.12.7"
  }
 },
 "nbformat": 4,
 "nbformat_minor": 2
}
