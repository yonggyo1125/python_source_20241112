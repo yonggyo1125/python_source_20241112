{
 "cells": [
  {
   "cell_type": "code",
   "execution_count": 2,
   "metadata": {},
   "outputs": [],
   "source": [
    "import requests\n",
    "url = \"https://news.naver.com\"\n",
    "response = requests.get(url)\n",
    "html_text = response.text\n",
    "#print(html_text)"
   ]
  },
  {
   "cell_type": "code",
   "execution_count": 8,
   "metadata": {},
   "outputs": [
    {
     "name": "stdout",
     "output_type": "stream",
     "text": [
      "--------------------------------------------------\n",
      "이미지 URL: https://mimgnews.pstatic.net/image/origin/009/2024/12/03/5407310.jpg?type=nf352_352\n",
      "--------------------------------------------------\n",
      "이미지 URL: https://mimgnews.pstatic.net/image/origin/023/2024/12/03/3874067.jpg?type=nf352_352\n",
      "--------------------------------------------------\n",
      "이미지 URL: https://mimgnews.pstatic.net/image/origin/021/2024/12/03/2675719.jpg?type=nf352_352\n",
      "--------------------------------------------------\n",
      "이미지 URL: https://mimgnews.pstatic.net/image/origin/031/2024/12/03/890061.jpg?type=nf352_352\n",
      "--------------------------------------------------\n",
      "이미지 URL: https://mimgnews.pstatic.net/image/origin/021/2024/12/03/2675533.jpg?type=nf352_352\n",
      "--------------------------------------------------\n",
      "이미지 URL: https://mimgnews.pstatic.net/image/origin/138/2024/12/03/2187285.jpg?type=nf352_352\n",
      "--------------------------------------------------\n",
      "이미지 URL: https://mimgnews.pstatic.net/image/origin/032/2024/12/02/3336133.jpg?type=nf352_352\n",
      "--------------------------------------------------\n",
      "이미지 URL: https://mimgnews.pstatic.net/image/origin/003/2024/12/03/12939077.jpg?type=nf352_352\n"
     ]
    }
   ],
   "source": [
    "\"\"\"\n",
    "<img loading=\"lazy\" width=\"80\" height=\"54\" alt=\"\" onerror=\"showNoImage(this)\" src=\"https://mimgnews.pstatic.net/image/origin/584/2024/12/03/29843.jpg?type=nf168_108&amp;ut=20241203174415\">\n",
    "\"\"\"\n",
    "# 패턴+  패턴{1,}\n",
    "# [^문자] ~가 아닌 문자\n",
    "# 패턴* 패턴{0,}  0개 이상 패턴 반복 \n",
    "import re\n",
    "# pattern = r'<img.+src=[\\'\"][^\\'\"]*[\\'\"][^>]*>'\n",
    "pattern = r'<img.+src=[\\'\"]([^\\'\"]*)[\\'\"][^>]*>'\n",
    "p = re.compile(pattern)\n",
    "#items = p.findall(html_text)\n",
    "items = p.finditer(html_text) # 이터레이터 객체\n",
    "\n",
    "for item in items:\n",
    "    print(\"-\" * 50)\n",
    "    print(\"이미지 URL:\", item.group(1))\n",
    "    #print(\"group()\", item.group())\n",
    "    #print(\"start()\", item.start())\n",
    "    #print(\"end()\", item.end())\n",
    "    #print(\"span()\", item.span())\n"
   ]
  },
  {
   "cell_type": "code",
   "execution_count": null,
   "metadata": {},
   "outputs": [],
   "source": []
  }
 ],
 "metadata": {
  "kernelspec": {
   "display_name": "base",
   "language": "python",
   "name": "python3"
  },
  "language_info": {
   "codemirror_mode": {
    "name": "ipython",
    "version": 3
   },
   "file_extension": ".py",
   "mimetype": "text/x-python",
   "name": "python",
   "nbconvert_exporter": "python",
   "pygments_lexer": "ipython3",
   "version": "3.12.7"
  }
 },
 "nbformat": 4,
 "nbformat_minor": 2
}
