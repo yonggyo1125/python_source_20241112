{
 "cells": [
  {
   "cell_type": "code",
   "execution_count": 2,
   "metadata": {},
   "outputs": [],
   "source": [
    "import re"
   ]
  },
  {
   "cell_type": "code",
   "execution_count": 4,
   "metadata": {},
   "outputs": [
    {
     "data": {
      "text/plain": [
       "<re.Match object; span=(3, 6), match='오렌지'>"
      ]
     },
     "execution_count": 4,
     "metadata": {},
     "output_type": "execute_result"
    }
   ],
   "source": [
    "p = re.compile(r\"사과|오렌지|멜론\") # 사과, 오렌지, 멜론 중 하나에 매칭이 되는 패턴 \n",
    "p.search(\"나는 오렌지를 1개 먹었다.\")"
   ]
  },
  {
   "cell_type": "code",
   "execution_count": 5,
   "metadata": {},
   "outputs": [
    {
     "data": {
      "text/plain": [
       "<re.Match object; span=(10, 15), match='class'>"
      ]
     },
     "execution_count": 5,
     "metadata": {},
     "output_type": "execute_result"
    }
   ],
   "source": [
    "data = \"i have no class\"\n",
    "p = re.compile(r\"\\bclass\\b\")  # \\b : 단어의 경계선 - 공백, 문장 처음, 문장 끝\n",
    "p.search(data)"
   ]
  },
  {
   "cell_type": "code",
   "execution_count": 6,
   "metadata": {},
   "outputs": [
    {
     "data": {
      "text/plain": [
       "<re.Match object; span=(7, 12), match='class'>"
      ]
     },
     "execution_count": 6,
     "metadata": {},
     "output_type": "execute_result"
    }
   ],
   "source": [
    "data = \"one subclass end\"\n",
    "p = re.compile(r\"\\Bclass\\b\")\n",
    "p.search(data)"
   ]
  },
  {
   "cell_type": "code",
   "execution_count": 12,
   "metadata": {},
   "outputs": [
    {
     "name": "stdout",
     "output_type": "stream",
     "text": [
      "1234ABABAB\n",
      "AB\n"
     ]
    }
   ],
   "source": [
    "p = re.compile(r\"\\d+(AB){3,}\") # AB 문자가 3번 이상 반복 되는 패턴\n",
    "m = p.search(\"1234ABABAB*****\")\n",
    "print(m.group()) # 매칭이 된 전체 문자열 \n",
    "print(m.group(1)) # 1번째 그룹 패턴에 매칭된 문자열"
   ]
  },
  {
   "cell_type": "code",
   "execution_count": 17,
   "metadata": {},
   "outputs": [
    {
     "name": "stdout",
     "output_type": "stream",
     "text": [
      "park\n",
      "010-1000-1000\n",
      "이이름\n",
      "010-2000-2000\n"
     ]
    }
   ],
   "source": [
    "data = \"\"\"\n",
    "park 010-1000-1000\n",
    "이이름 010-2000-2000\n",
    "\"\"\"\n",
    "pattern = r'([a-zA-Zㄱ-ㅎ가-힣]+)\\s+(01[016]\\D*\\d{3,4}\\D*\\d{4})'\n",
    "p = re.compile(pattern)\n",
    "# m = p.search(data)\n",
    "# print(m.group()) # 전체\n",
    "# print(m.group(1)) # 1번째 그룹 패턴 매칭 문자\n",
    "# print(m.group(2)) # 2번째 그룹 패턴 매칭 문자\n",
    "for m in p.finditer(data):\n",
    "    print(m.group(1))\n",
    "    print(m.group(2))\n"
   ]
  },
  {
   "cell_type": "code",
   "execution_count": 18,
   "metadata": {},
   "outputs": [
    {
     "name": "stdout",
     "output_type": "stream",
     "text": [
      "\n",
      "010-1000-1000 park\n",
      "010-2000-2000 이이름\n",
      "\n"
     ]
    }
   ],
   "source": [
    "data = \"\"\"\n",
    "park 010-1000-1000\n",
    "이이름 010-2000-2000\n",
    "\"\"\"\n",
    "pattern = r'([a-zA-Zㄱ-ㅎ가-힣]+)\\s+(01[016]\\D*\\d{3,4}\\D*\\d{4})'\n",
    "p = re.compile(pattern)\n",
    "data2 = p.sub(r\"\\g<2> \\g<1>\", data)\n",
    "print(data2)"
   ]
  },
  {
   "cell_type": "code",
   "execution_count": 19,
   "metadata": {},
   "outputs": [
    {
     "name": "stdout",
     "output_type": "stream",
     "text": [
      "\n",
      "010-1000-1000 park\n",
      "010-2000-2000 이이름\n",
      "\n"
     ]
    }
   ],
   "source": [
    "data = \"\"\"\n",
    "park 010-1000-1000\n",
    "이이름 010-2000-2000\n",
    "\"\"\"\n",
    "pattern = r'(?P<name>[a-zA-Zㄱ-ㅎ가-힣]+)\\s+(?P<mobile>01[016]\\D*\\d{3,4}\\D*\\d{4})'\n",
    "p = re.compile(pattern)\n",
    "data2 = p.sub(r\"\\g<mobile> \\g<name>\", data)\n",
    "print(data2)"
   ]
  },
  {
   "cell_type": "code",
   "execution_count": null,
   "metadata": {},
   "outputs": [],
   "source": [
    "# 전방 탐색 \n",
    "url = \"https://www.naver.com\"\n",
    "# pattern = r\"^http[s]?://\"\n",
    "pattern = r\".+(?=://)\" # http[s]?:// 반드시 .+ 패턴 앞에 등장 - 전방 탐색\n",
    "p = re.compile(pattern)\n",
    "p.search(url)"
   ]
  },
  {
   "cell_type": "code",
   "execution_count": 39,
   "metadata": {},
   "outputs": [
    {
     "name": "stdout",
     "output_type": "stream",
     "text": [
      "<re.Match object; span=(0, 21), match='https://www.naver.com'>\n",
      "<re.Match object; span=(0, 20), match='https://www.daum.net'>\n",
      "<re.Match object; span=(0, 6), match='abc123'>\n"
     ]
    }
   ],
   "source": [
    "# 전방 부정 탐색\n",
    "data = [\"https://www.naver.com\", \"https://www.daum.net\", \"abc123\"]\n",
    "pattern = r\".+(?!://)\" # 반드시 .+ 패턴 앞에 :// 이 없는 패턴\n",
    "p = re.compile(pattern)\n",
    "\n",
    "for url in data:\n",
    "    m = p.search(url)\n",
    "    print(m)"
   ]
  },
  {
   "cell_type": "code",
   "execution_count": null,
   "metadata": {},
   "outputs": [],
   "source": [
    "data = '<html><head></head><body></body></html>'"
   ]
  }
 ],
 "metadata": {
  "kernelspec": {
   "display_name": "base",
   "language": "python",
   "name": "python3"
  },
  "language_info": {
   "codemirror_mode": {
    "name": "ipython",
    "version": 3
   },
   "file_extension": ".py",
   "mimetype": "text/x-python",
   "name": "python",
   "nbconvert_exporter": "python",
   "pygments_lexer": "ipython3",
   "version": "3.12.7"
  }
 },
 "nbformat": 4,
 "nbformat_minor": 2
}
