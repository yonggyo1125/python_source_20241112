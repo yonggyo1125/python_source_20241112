{
 "cells": [
  {
   "cell_type": "code",
   "execution_count": 10,
   "metadata": {},
   "outputs": [],
   "source": [
    "# 이터레이터 - iter(반복가능한 객체)\n",
    "fruits = [\"사과\", \"오렌지\", \"멜론\", \"바나나\", \"망고\"]\n",
    "itr = iter(fruits) # 이터레이터 객체 생성"
   ]
  },
  {
   "cell_type": "code",
   "execution_count": 9,
   "metadata": {},
   "outputs": [
    {
     "name": "stdout",
     "output_type": "stream",
     "text": [
      "사과\n",
      "오렌지\n",
      "멜론\n",
      "바나나\n",
      "망고\n"
     ]
    }
   ],
   "source": [
    "# next(이터레이터 객체)  : 위치를 기록하고 하나를 꺼내온다!\n",
    "# 다 꺼내 왔을 경우 StopIteration 예외 발생\n",
    "# next(itr)\n",
    "while True:\n",
    "    try:\n",
    "        print(next(itr))\n",
    "    except StopIteration: # 다 꺼내왔다,\n",
    "        break"
   ]
  },
  {
   "cell_type": "code",
   "execution_count": null,
   "metadata": {},
   "outputs": [],
   "source": [
    "for fruit in itr:\n",
    "    print(fruit)\n"
   ]
  },
  {
   "cell_type": "code",
   "execution_count": 14,
   "metadata": {},
   "outputs": [],
   "source": [
    "# 제너레이터 - next()를 호출할때 마다 지연된 반환값을 순서대로 반환\n",
    "# 대용량 데이터 처리 \n",
    "def gen():\n",
    "    yield 100\n",
    "    yield 200\n",
    "    yield 300\n",
    "\n",
    "g = gen() # 제너레이터 객체 "
   ]
  },
  {
   "cell_type": "code",
   "execution_count": 18,
   "metadata": {},
   "outputs": [
    {
     "ename": "StopIteration",
     "evalue": "",
     "output_type": "error",
     "traceback": [
      "\u001b[1;31m---------------------------------------------------------------------------\u001b[0m",
      "\u001b[1;31mStopIteration\u001b[0m                             Traceback (most recent call last)",
      "Cell \u001b[1;32mIn[18], line 1\u001b[0m\n\u001b[1;32m----> 1\u001b[0m \u001b[38;5;28;43mnext\u001b[39;49m\u001b[43m(\u001b[49m\u001b[43mg\u001b[49m\u001b[43m)\u001b[49m\n",
      "\u001b[1;31mStopIteration\u001b[0m: "
     ]
    }
   ],
   "source": [
    "next(g)"
   ]
  }
 ],
 "metadata": {
  "kernelspec": {
   "display_name": "base",
   "language": "python",
   "name": "python3"
  },
  "language_info": {
   "codemirror_mode": {
    "name": "ipython",
    "version": 3
   },
   "file_extension": ".py",
   "mimetype": "text/x-python",
   "name": "python",
   "nbconvert_exporter": "python",
   "pygments_lexer": "ipython3",
   "version": "3.12.7"
  }
 },
 "nbformat": 4,
 "nbformat_minor": 2
}
