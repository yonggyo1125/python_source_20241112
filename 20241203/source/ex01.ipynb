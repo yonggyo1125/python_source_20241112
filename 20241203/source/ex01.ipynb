{
 "cells": [
  {
   "cell_type": "code",
   "execution_count": 7,
   "metadata": {},
   "outputs": [
    {
     "data": {
      "text/plain": [
       "<re.Match object; span=(0, 12), match='016.100.1000'>"
      ]
     },
     "execution_count": 7,
     "metadata": {},
     "output_type": "execute_result"
    }
   ],
   "source": [
    "# 휴대전화번호 검증 패턴 \n",
    "\"\"\"\n",
    "010,016,011\n",
    "010-1000-1000  / 010/1000/1000 / 010.1000.1000 / 01010001000\n",
    "016-100-1000\n",
    "\"\"\"\n",
    "import re\n",
    "\n",
    "# \\d - [0-9]\n",
    "# \\D - [^0-9]\n",
    "# ^패턴 - 패턴으로 시작하는 패턴\n",
    "# 패턴$ - 패턴으로 끝나는 패턴 \n",
    "# pattern = r\"01[016]\\D?\\d{3,4}\\D?\\d{4}\"\n",
    "pattern = r\"^01[016]\\D?\\d{3,4}\\D?\\d{4}$\"  # 01로 시작하고 숫자 4자리로 끝나는 패턴\n",
    "p = re.compile(pattern)\n",
    "p.search(\"016.100.1000\")"
   ]
  }
 ],
 "metadata": {
  "kernelspec": {
   "display_name": "base",
   "language": "python",
   "name": "python3"
  },
  "language_info": {
   "codemirror_mode": {
    "name": "ipython",
    "version": 3
   },
   "file_extension": ".py",
   "mimetype": "text/x-python",
   "name": "python",
   "nbconvert_exporter": "python",
   "pygments_lexer": "ipython3",
   "version": "3.12.7"
  }
 },
 "nbformat": 4,
 "nbformat_minor": 2
}
