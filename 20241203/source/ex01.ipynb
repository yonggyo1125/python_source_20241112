{
 "cells": [
  {
   "cell_type": "code",
   "execution_count": 7,
   "metadata": {},
   "outputs": [
    {
     "data": {
      "text/plain": [
       "<re.Match object; span=(0, 12), match='016.100.1000'>"
      ]
     },
     "execution_count": 7,
     "metadata": {},
     "output_type": "execute_result"
    }
   ],
   "source": [
    "# 휴대전화번호 검증 패턴 \n",
    "\"\"\"\n",
    "010,016,011\n",
    "010-1000-1000  / 010/1000/1000 / 010.1000.1000 / 01010001000\n",
    "016-100-1000\n",
    "\"\"\"\n",
    "import re\n",
    "\n",
    "# \\d - [0-9]\n",
    "# \\D - [^0-9]\n",
    "# ^패턴 - 패턴으로 시작하는 패턴\n",
    "# 패턴$ - 패턴으로 끝나는 패턴 \n",
    "# pattern = r\"01[016]\\D?\\d{3,4}\\D?\\d{4}\"\n",
    "pattern = r\"^01[016]\\D?\\d{3,4}\\D?\\d{4}$\"  # 01로 시작하고 숫자 4자리로 끝나는 패턴\n",
    "p = re.compile(pattern)\n",
    "p.search(\"016.100.1000\")"
   ]
  },
  {
   "cell_type": "code",
   "execution_count": null,
   "metadata": {},
   "outputs": [],
   "source": [
    "# . : 줄개행 문자(\\n) 모든 문자\n",
    "p = re.compile(\"a.b\") # a와 b 사이에 줄개행 문자를 제외한 모든 문자 1개\n",
    "# p.match(\"abb\")\n",
    "p.match(\"a\\nb\") # 패턴 검증 실패!"
   ]
  },
  {
   "cell_type": "code",
   "execution_count": 12,
   "metadata": {},
   "outputs": [
    {
     "data": {
      "text/plain": [
       "<re.Match object; span=(0, 3), match='a\\nb'>"
      ]
     },
     "execution_count": 12,
     "metadata": {},
     "output_type": "execute_result"
    }
   ],
   "source": [
    "# p = re.compile(\"a.b\", re.DOTALL) # 줄개행 문자(\\n)인식\n",
    "p = re.compile(\"a.b\", re.S)\n",
    "p.match(\"a\\nb\")\n",
    "p.match(\"\"\"a\n",
    "b\"\"\")"
   ]
  },
  {
   "cell_type": "code",
   "execution_count": null,
   "metadata": {},
   "outputs": [],
   "source": [
    "p = re.compile(\"[a-z]\") # 소문자 문자 1개 \n",
    "p.match(\"A\") "
   ]
  },
  {
   "cell_type": "code",
   "execution_count": 15,
   "metadata": {},
   "outputs": [
    {
     "data": {
      "text/plain": [
       "<re.Match object; span=(0, 1), match='A'>"
      ]
     },
     "execution_count": 15,
     "metadata": {},
     "output_type": "execute_result"
    }
   ],
   "source": [
    "# p = re.compile(\"[a-z]\", re.IGNORECASE)  # 대소문자 구분 없이 [a-zA-Z]\n",
    "p = re.compile(\"[a-z]\", re.I)\n",
    "p.match(\"A\")\n"
   ]
  },
  {
   "cell_type": "code",
   "execution_count": null,
   "metadata": {},
   "outputs": [
    {
     "name": "stdout",
     "output_type": "stream",
     "text": [
      "['python one']\n"
     ]
    }
   ],
   "source": [
    "data = \"\"\"python one\n",
    "life is too short\n",
    "python two\n",
    "you need python\n",
    "python three\"\"\"\n",
    "\n",
    "p = re.compile(r\"^python\\s\\w+\") # ^전체 문장에서 시작하는 패턴\n",
    "items = p.findall(data)\n",
    "print(items)"
   ]
  },
  {
   "cell_type": "code",
   "execution_count": 21,
   "metadata": {},
   "outputs": [
    {
     "name": "stdout",
     "output_type": "stream",
     "text": [
      "['python one', 'PYTHON two', 'python three']\n"
     ]
    }
   ],
   "source": [
    "data = \"\"\"python one\n",
    "life is too short\n",
    "PYTHON two\n",
    "you need python\n",
    "python three\"\"\"\n",
    "\n",
    "# p = re.compile(r\"^python\\s\\w+\", re.MULTILINE) # 각 행별로 ^, $ 패턴 체크\n",
    "# p = re.compile(r\"^python\\s\\w+\", re.M)\n",
    "p = re.compile(r\"^python\\s\\w+\", re.M | re.I) # MULTILINE, IGNORECASE\n",
    "items = p.findall(data)\n",
    "print(items)"
   ]
  }
 ],
 "metadata": {
  "kernelspec": {
   "display_name": "base",
   "language": "python",
   "name": "python3"
  },
  "language_info": {
   "codemirror_mode": {
    "name": "ipython",
    "version": 3
   },
   "file_extension": ".py",
   "mimetype": "text/x-python",
   "name": "python",
   "nbconvert_exporter": "python",
   "pygments_lexer": "ipython3",
   "version": "3.12.7"
  }
 },
 "nbformat": 4,
 "nbformat_minor": 2
}
