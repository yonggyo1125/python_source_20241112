{
 "cells": [
  {
   "cell_type": "code",
   "execution_count": 1,
   "metadata": {},
   "outputs": [
    {
     "name": "stdout",
     "output_type": "stream",
     "text": [
      "86.25\n"
     ]
    }
   ],
   "source": [
    "import numpy as np\n",
    "\n",
    "nums = np.array([88, 67, 90, 100])\n",
    "print(np.mean(nums))"
   ]
  },
  {
   "cell_type": "code",
   "execution_count": 5,
   "metadata": {},
   "outputs": [
    {
     "name": "stdout",
     "output_type": "stream",
     "text": [
      "[86.25 71.   78.5 ]\n",
      "[67.33 64.   86.33 96.67]\n",
      "[12.00780996 17.11724277 17.29884389]\n",
      "[18.06162291  6.4807407   4.49691252  4.71404521]\n"
     ]
    }
   ],
   "source": [
    "\n",
    "nums = np.array([\n",
    "        [88, 67, 90, 100],\n",
    "        [44, 70, 80, 90],\n",
    "        [70, 55, 89, 100]\n",
    "    ])\n",
    "\n",
    "# 행별로 평균 구하기\n",
    "print(np.mean(nums, axis=1)) # axis - 0 : 열별 평균, 1 - 행별 평균\n",
    "\n",
    "# 열별로 평균 구하기\n",
    "print(np.round(np.mean(nums, axis=0), decimals=2))\n",
    "\n",
    "# 행별로 표준편차 구하기\n",
    "print(np.std(nums, axis=1))\n",
    "\n",
    "# 열별로 표준편차 구하기 \n",
    "print(np.std(nums, axis=0))"
   ]
  }
 ],
 "metadata": {
  "kernelspec": {
   "display_name": "base",
   "language": "python",
   "name": "python3"
  },
  "language_info": {
   "codemirror_mode": {
    "name": "ipython",
    "version": 3
   },
   "file_extension": ".py",
   "mimetype": "text/x-python",
   "name": "python",
   "nbconvert_exporter": "python",
   "pygments_lexer": "ipython3",
   "version": "3.12.7"
  }
 },
 "nbformat": 4,
 "nbformat_minor": 2
}
