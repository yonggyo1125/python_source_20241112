{
 "cells": [
  {
   "cell_type": "code",
   "execution_count": 2,
   "metadata": {},
   "outputs": [],
   "source": [
    "import numpy as np\n",
    "\n",
    "nums = np.array([10, 20, 30, 40, 50])\n"
   ]
  },
  {
   "cell_type": "code",
   "execution_count": 5,
   "metadata": {},
   "outputs": [
    {
     "name": "stdout",
     "output_type": "stream",
     "text": [
      "[10 20 30 40 50]\n",
      "[ 100  400  900 1600 2500]\n",
      "[1. 2. 3. 4. 5.]\n"
     ]
    }
   ],
   "source": [
    "# 브로드 캐스팅 - +, -, *, /, **\n",
    "nums2 = nums ** 2\n",
    "nums3 = nums / 10\n",
    "print(nums)\n",
    "print(nums2)\n",
    "print(nums3)"
   ]
  },
  {
   "cell_type": "code",
   "execution_count": 8,
   "metadata": {},
   "outputs": [
    {
     "name": "stdout",
     "output_type": "stream",
     "text": [
      "[1 2 3 4]\n",
      "[10 20 30 40]\n"
     ]
    }
   ],
   "source": [
    "nums = np.array([[1, 10], [2, 20], [3, 30], [4, 40]])\n",
    "# print(nums)\n",
    "\n",
    "nums2 = nums[:,0]\n",
    "print(nums2)\n",
    "\n",
    "nums3 = nums[:,1]\n",
    "print(nums3)"
   ]
  },
  {
   "cell_type": "code",
   "execution_count": 10,
   "metadata": {},
   "outputs": [
    {
     "name": "stdout",
     "output_type": "stream",
     "text": [
      "[1 2 3 4 5 6]\n",
      "[[1 2]\n",
      " [3 4]\n",
      " [5 6]]\n"
     ]
    }
   ],
   "source": [
    "# 차원 수 변경 - reshape\n",
    "nums = np.array([1, 2, 3, 4, 5, 6])\n",
    "print(nums)\n",
    "\n",
    "nums2 = nums.reshape(3, 2) # 3행 2열\n",
    "print(nums2)"
   ]
  },
  {
   "cell_type": "code",
   "execution_count": 12,
   "metadata": {},
   "outputs": [
    {
     "name": "stdout",
     "output_type": "stream",
     "text": [
      "[10 20 30 40 50 60 70]\n",
      "[20 40 60]\n"
     ]
    }
   ],
   "source": [
    "# 넘파이 인덱싱 \n",
    "nums = np.array([10, 20, 30, 40, 50, 60, 70])\n",
    "print(nums)\n",
    "\n",
    "nums2 = nums[[1,3,5]] # 1, 3, 5 항목 추출 \n",
    "print(nums2)"
   ]
  },
  {
   "cell_type": "code",
   "execution_count": 14,
   "metadata": {},
   "outputs": [
    {
     "name": "stdout",
     "output_type": "stream",
     "text": [
      "[0 1 2 3 4 5 6 7 8 9]\n",
      "[10 11 12 13 14 15 16 17 18 19]\n"
     ]
    }
   ],
   "source": [
    "# arange(숫자) 0 ~ 숫자 \n",
    "print(np.arange(10)) # 0~9\n",
    "\n",
    "# arange(시작, 종료) 시작 번호 ~ 종료 번호 미만 \n",
    "print(np.arange(10, 20))"
   ]
  },
  {
   "cell_type": "code",
   "execution_count": 18,
   "metadata": {},
   "outputs": [
    {
     "name": "stdout",
     "output_type": "stream",
     "text": [
      "[2 5 3 7 8 1 4 9 6 0]\n"
     ]
    }
   ],
   "source": [
    "# random.shuffle : 넘파이 배열을 무작위로 섞어줄때 \n",
    "nums = np.arange(10)\n",
    "np.random.shuffle(nums)\n",
    "print(nums)"
   ]
  }
 ],
 "metadata": {
  "kernelspec": {
   "display_name": "base",
   "language": "python",
   "name": "python3"
  },
  "language_info": {
   "codemirror_mode": {
    "name": "ipython",
    "version": 3
   },
   "file_extension": ".py",
   "mimetype": "text/x-python",
   "name": "python",
   "nbconvert_exporter": "python",
   "pygments_lexer": "ipython3",
   "version": "3.12.7"
  }
 },
 "nbformat": 4,
 "nbformat_minor": 2
}
