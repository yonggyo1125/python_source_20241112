{
 "cells": [
  {
   "cell_type": "code",
   "execution_count": 6,
   "metadata": {},
   "outputs": [
    {
     "name": "stdout",
     "output_type": "stream",
     "text": [
      "참\n"
     ]
    }
   ],
   "source": [
    "# 파이썬은 값으로도 참, 거짓 판별\n",
    "# 거짓 : 0, '', [], (), None\n",
    "if 'A':\n",
    "    print(\"참\")\n",
    "else:\n",
    "    print(\"거짓\")\n"
   ]
  },
  {
   "cell_type": "code",
   "execution_count": 9,
   "metadata": {},
   "outputs": [
    {
     "data": {
      "text/plain": [
       "True"
      ]
     },
     "execution_count": 9,
     "metadata": {},
     "output_type": "execute_result"
    }
   ],
   "source": [
    "# items = [1, 2, 3, 0]  # 1, 2, 3 - 참, 0 - 거짓\n",
    "items = [1, 2, 3, 4]\n",
    "all(items)"
   ]
  },
  {
   "cell_type": "code",
   "execution_count": null,
   "metadata": {},
   "outputs": [
    {
     "data": {
      "text/plain": [
       "True"
      ]
     },
     "execution_count": 10,
     "metadata": {},
     "output_type": "execute_result"
    }
   ],
   "source": [
    "all([])  # [] : 비어있는 리스트는 False가 아닌가? all은 []를 참으로 판단!"
   ]
  },
  {
   "cell_type": "code",
   "execution_count": 11,
   "metadata": {},
   "outputs": [
    {
     "data": {
      "text/plain": [
       "True"
      ]
     },
     "execution_count": 11,
     "metadata": {},
     "output_type": "execute_result"
    }
   ],
   "source": [
    "items = [1, 2, 3, 0] # 1, 2, 3 - 참, 0 - 거짓\n",
    "any(items) "
   ]
  },
  {
   "cell_type": "code",
   "execution_count": 12,
   "metadata": {},
   "outputs": [
    {
     "data": {
      "text/plain": [
       "False"
      ]
     },
     "execution_count": 12,
     "metadata": {},
     "output_type": "execute_result"
    }
   ],
   "source": [
    "any([])"
   ]
  },
  {
   "cell_type": "code",
   "execution_count": 13,
   "metadata": {},
   "outputs": [
    {
     "data": {
      "text/plain": [
       "'A'"
      ]
     },
     "execution_count": 13,
     "metadata": {},
     "output_type": "execute_result"
    }
   ],
   "source": [
    "chr(65)"
   ]
  },
  {
   "cell_type": "code",
   "execution_count": 14,
   "metadata": {},
   "outputs": [
    {
     "data": {
      "text/plain": [
       "65"
      ]
     },
     "execution_count": 14,
     "metadata": {},
     "output_type": "execute_result"
    }
   ],
   "source": [
    "ord('A')"
   ]
  },
  {
   "cell_type": "code",
   "execution_count": 15,
   "metadata": {},
   "outputs": [
    {
     "data": {
      "text/plain": [
       "44032"
      ]
     },
     "execution_count": 15,
     "metadata": {},
     "output_type": "execute_result"
    }
   ],
   "source": [
    "ord('가')"
   ]
  },
  {
   "cell_type": "code",
   "execution_count": 17,
   "metadata": {},
   "outputs": [
    {
     "data": {
      "text/plain": [
       "['__add__',\n",
       " '__class__',\n",
       " '__class_getitem__',\n",
       " '__contains__',\n",
       " '__delattr__',\n",
       " '__delitem__',\n",
       " '__dir__',\n",
       " '__doc__',\n",
       " '__eq__',\n",
       " '__format__',\n",
       " '__ge__',\n",
       " '__getattribute__',\n",
       " '__getitem__',\n",
       " '__getstate__',\n",
       " '__gt__',\n",
       " '__hash__',\n",
       " '__iadd__',\n",
       " '__imul__',\n",
       " '__init__',\n",
       " '__init_subclass__',\n",
       " '__iter__',\n",
       " '__le__',\n",
       " '__len__',\n",
       " '__lt__',\n",
       " '__mul__',\n",
       " '__ne__',\n",
       " '__new__',\n",
       " '__reduce__',\n",
       " '__reduce_ex__',\n",
       " '__repr__',\n",
       " '__reversed__',\n",
       " '__rmul__',\n",
       " '__setattr__',\n",
       " '__setitem__',\n",
       " '__sizeof__',\n",
       " '__str__',\n",
       " '__subclasshook__',\n",
       " 'append',\n",
       " 'clear',\n",
       " 'copy',\n",
       " 'count',\n",
       " 'extend',\n",
       " 'index',\n",
       " 'insert',\n",
       " 'pop',\n",
       " 'remove',\n",
       " 'reverse',\n",
       " 'sort']"
      ]
     },
     "execution_count": 17,
     "metadata": {},
     "output_type": "execute_result"
    }
   ],
   "source": [
    "# a = '가'\n",
    "# dir(a)\n",
    "items = ['사과', '오렌지', '멜론'] # 리스트 객체 \n",
    "dir(items)\n"
   ]
  },
  {
   "cell_type": "code",
   "execution_count": 18,
   "metadata": {},
   "outputs": [
    {
     "name": "stdout",
     "output_type": "stream",
     "text": [
      "(3, 1)\n"
     ]
    }
   ],
   "source": [
    "a = 10\n",
    "b = 3\n",
    "result = (a // b, a % b)  # a // b - 몫, a % b - 나머지\n",
    "print(result)"
   ]
  },
  {
   "cell_type": "code",
   "execution_count": 19,
   "metadata": {},
   "outputs": [
    {
     "data": {
      "text/plain": [
       "(3, 1)"
      ]
     },
     "execution_count": 19,
     "metadata": {},
     "output_type": "execute_result"
    }
   ],
   "source": [
    "a = 10\n",
    "b = 3\n",
    "divmod(a, b)  # 몫과 나머지를 한꺼번에 구한다!"
   ]
  },
  {
   "cell_type": "code",
   "execution_count": null,
   "metadata": {},
   "outputs": [
    {
     "name": "stdout",
     "output_type": "stream",
     "text": [
      "0 사과\n",
      "1 오렌지\n",
      "2 멜론\n",
      "3 망고\n"
     ]
    }
   ],
   "source": [
    "fruits = ['사과', '오렌지', '멜론', '망고']\n",
    "\n",
    "i = 0\n",
    "for fruit in fruits: \n",
    "    print(i, fruit)\n",
    "    i += 1"
   ]
  },
  {
   "cell_type": "code",
   "execution_count": 30,
   "metadata": {},
   "outputs": [
    {
     "name": "stdout",
     "output_type": "stream",
     "text": [
      "0 사과\n",
      "1 오렌지\n",
      "2 멜론\n",
      "3 망고\n"
     ]
    }
   ],
   "source": [
    "fruits = ['사과', '오렌지', '멜론', '망고']\n",
    "for i, fruit in enumerate(fruits):\n",
    "    #print(item)\n",
    "    print(i, fruit)"
   ]
  },
  {
   "cell_type": "code",
   "execution_count": 27,
   "metadata": {},
   "outputs": [
    {
     "name": "stdout",
     "output_type": "stream",
     "text": [
      "사과 오렌지\n"
     ]
    }
   ],
   "source": [
    "# 튜플은 바로 분해해서 변수에 할당이 가능!\n",
    "# (apple, orange) = ('사과', '오렌지')  # 튜플의 값을 바로 분해서 변수에 대입 많이 한다!\n",
    "# apple = fruits[0]\n",
    "# orange = fruits[1]\n",
    "# apple, orange = ('사과', '오렌지')\n",
    "apple, orange = '사과', '오렌지'\n",
    "print(apple, orange)"
   ]
  },
  {
   "cell_type": "code",
   "execution_count": 28,
   "metadata": {},
   "outputs": [
    {
     "name": "stdout",
     "output_type": "stream",
     "text": [
      "20 10\n"
     ]
    }
   ],
   "source": [
    "a = 10\n",
    "b = 20\n",
    "tmp = b\n",
    "b = a\n",
    "a = tmp\n",
    "print(a, b)"
   ]
  },
  {
   "cell_type": "code",
   "execution_count": 29,
   "metadata": {},
   "outputs": [
    {
     "name": "stdout",
     "output_type": "stream",
     "text": [
      "20 10\n"
     ]
    }
   ],
   "source": [
    "a = 10\n",
    "b = 20\n",
    "b, a = a, b\n",
    "print(a, b)"
   ]
  },
  {
   "cell_type": "code",
   "execution_count": 31,
   "metadata": {},
   "outputs": [],
   "source": [
    "a = 'Life is too short, You need Python!'"
   ]
  },
  {
   "cell_type": "code",
   "execution_count": 33,
   "metadata": {},
   "outputs": [
    {
     "data": {
      "text/plain": [
       "'Life'"
      ]
     },
     "execution_count": 33,
     "metadata": {},
     "output_type": "execute_result"
    }
   ],
   "source": [
    "a[0] + a[1] + a[2] + a[3]"
   ]
  },
  {
   "cell_type": "code",
   "execution_count": 34,
   "metadata": {},
   "outputs": [
    {
     "data": {
      "text/plain": [
       "'!n'"
      ]
     },
     "execution_count": 34,
     "metadata": {},
     "output_type": "execute_result"
    }
   ],
   "source": [
    "a[-1] + a[-2]"
   ]
  },
  {
   "cell_type": "code",
   "execution_count": 35,
   "metadata": {},
   "outputs": [
    {
     "name": "stdout",
     "output_type": "stream",
     "text": [
      "A\n",
      "B\n",
      "C\n"
     ]
    }
   ],
   "source": [
    "for ch in 'ABC':\n",
    "    print(ch)"
   ]
  },
  {
   "cell_type": "code",
   "execution_count": 37,
   "metadata": {},
   "outputs": [
    {
     "data": {
      "text/plain": [
       "'a10'"
      ]
     },
     "execution_count": 37,
     "metadata": {},
     "output_type": "execute_result"
    }
   ],
   "source": [
    "a = \"'a' + str(10)\"\n",
    "eval(a)"
   ]
  },
  {
   "cell_type": "code",
   "execution_count": null,
   "metadata": {},
   "outputs": [
    {
     "data": {
      "text/plain": [
       "''"
      ]
     },
     "execution_count": 46,
     "metadata": {},
     "output_type": "execute_result"
    }
   ],
   "source": [
    "import os\n",
    "\n",
    "command = \"os.popen('D:/pkg').read()\"\n",
    "eval(command) # 사용 지양!\n"
   ]
  },
  {
   "cell_type": "code",
   "execution_count": 83,
   "metadata": {},
   "outputs": [
    {
     "data": {
      "text/plain": [
       "1"
      ]
     },
     "execution_count": 83,
     "metadata": {},
     "output_type": "execute_result"
    }
   ],
   "source": [
    "from random import random\n",
    "\n",
    "int(random() * 3)  # 곱하는 수보다 작은 수의 정수가 반복 0, 1, 2"
   ]
  },
  {
   "cell_type": "code",
   "execution_count": null,
   "metadata": {},
   "outputs": [
    {
     "name": "stdout",
     "output_type": "stream",
     "text": [
      "nums: [741, 718, 74, 319, 427, 148, 761, 534, 450, 531]\n",
      "odds: [741, 319, 427, 761, 531]\n"
     ]
    }
   ],
   "source": [
    "nums = []\n",
    "for _ in range(0, 10):  # in 앞에 변수를 사용하지 않는 경우 _로 자리만 채운다!\n",
    "    nums.append(int(random() * 1000))\n",
    "\n",
    "\n",
    "# 홀수를 판별하는 함수\n",
    "# 사용자 정의 함수 \n",
    "#  - 필요에 따라서 개발자가 정의하고 한번 쓰고 더이상 쓰지 않는 함수!\n",
    "#  - 용도가 한번 쓰고 버리는 일회용 함수!\n",
    "#  - 로직도 길지 않다, 주로 한줄로 정의한다!\n",
    "def is_odd(num):  \n",
    "    return num % 2 == 1 # 홀수\n",
    "    # return num % 2\n",
    "\n",
    "odds = list(filter(is_odd, nums))\n",
    "print(\"nums:\", nums)\n",
    "print(\"odds:\", odds)"
   ]
  },
  {
   "cell_type": "code",
   "execution_count": null,
   "metadata": {},
   "outputs": [
    {
     "name": "stdout",
     "output_type": "stream",
     "text": [
      "[741, 319, 427, 761, 531]\n"
     ]
    }
   ],
   "source": [
    "odds = list(filter(lambda x: x % 2 == 1, nums))\n",
    "print(odds)\n",
    "\n",
    "\"\"\"\n",
    "함수형 프로그래밍 \n",
    "    - 함수가 값이다!\n",
    "    - 함수를 매개변수로 사용 : \n",
    "        - 100% - 필요에 의해서 정의하고 한번 쓰고 버리는 사용자 정의 함수\n",
    "    - 함수를 반환값으로 사용\n",
    "        - 클로저\n",
    "\"\"\""
   ]
  },
  {
   "cell_type": "code",
   "execution_count": 104,
   "metadata": {},
   "outputs": [
    {
     "data": {
      "text/plain": [
       "'0xff'"
      ]
     },
     "execution_count": 104,
     "metadata": {},
     "output_type": "execute_result"
    }
   ],
   "source": [
    "hex(255)"
   ]
  },
  {
   "cell_type": "code",
   "execution_count": 109,
   "metadata": {},
   "outputs": [
    {
     "name": "stdout",
     "output_type": "stream",
     "text": [
      "a의 주소: 140735001537240 b의 주쇠: 140735001537240\n"
     ]
    }
   ],
   "source": [
    "a = 10  # 값이 있으면 무조건 이를 보관할 공간이 필요하다! 이게 메모리다!\n",
    "        # 메모리는 접근 주소가 있다!\n",
    "b = 10\n",
    "print(\"a의 주소:\", id(a), \"b의 주쇠:\", id(b))"
   ]
  },
  {
   "cell_type": "code",
   "execution_count": 108,
   "metadata": {},
   "outputs": [
    {
     "name": "stdout",
     "output_type": "stream",
     "text": [
      "c1: 2996585166800 c2: 2996585162288\n",
      "False\n"
     ]
    }
   ],
   "source": [
    "class Cookie:\n",
    "    pass\n",
    "\n",
    "c1 = Cookie()\n",
    "c2 = Cookie()\n",
    "print(\"c1:\", id(c1), \"c2:\", id(c2))\n",
    "print(c1 == c2) # 주소가 다르기때문에 다른 객체!\n"
   ]
  },
  {
   "cell_type": "code",
   "execution_count": 111,
   "metadata": {},
   "outputs": [
    {
     "name": "stdout",
     "output_type": "stream",
     "text": [
      "a: 140735001084848 b: 140735001084848 c: 140735001084848\n"
     ]
    }
   ],
   "source": [
    "a = 'ABC' # 문자형 객체 \n",
    "b = 'ABC' \n",
    "c = 'A' + 'BC'\n",
    "print(\"a:\", id(a), \"b:\", id(b), \"c:\", id(c))"
   ]
  },
  {
   "cell_type": "code",
   "execution_count": 3,
   "metadata": {},
   "outputs": [
    {
     "name": "stdout",
     "output_type": "stream",
     "text": [
      "300 -100 20000 0.5\n"
     ]
    }
   ],
   "source": [
    "#while True:  # 무한 반복(무한 루프)\n",
    "num1 = int(input('수1 입력:')) # 반환값이 전부 문자!\n",
    "num2 = int(input('수2 입력:')) # 문자열 -> 정수 \n",
    "\n",
    "print(num1 + num2, num1 - num2, num1 * num2, num1 / num2)"
   ]
  },
  {
   "cell_type": "code",
   "execution_count": 5,
   "metadata": {},
   "outputs": [
    {
     "data": {
      "text/plain": [
       "True"
      ]
     },
     "execution_count": 5,
     "metadata": {},
     "output_type": "execute_result"
    }
   ],
   "source": [
    "class Cookie:\n",
    "    pass\n",
    "\n",
    "a = Cookie()\n",
    "\n",
    "isinstance(a, Cookie) \n",
    " # a 변수가 가리키는 객체의 출처가 Cookie에서 유래되었는지 체크"
   ]
  },
  {
   "cell_type": "code",
   "execution_count": null,
   "metadata": {},
   "outputs": [
    {
     "name": "stdout",
     "output_type": "stream",
     "text": [
      "['h', 'e', 'l', 'l', 'o']\n",
      "{'e', 'o', 'l', 'h'}\n"
     ]
    }
   ],
   "source": [
    "a = list(\"hello\")\n",
    "print(a) # 리스트로 변환\n",
    "\n",
    "# l이 중복되는데 이 중복 없이 값을 문자로 분리할 수 있을까?\n",
    "b = set(\"hello\")  # 집합 자료, 중복 X, 순서 결정 X\n",
    "print(b)"
   ]
  },
  {
   "cell_type": "code",
   "execution_count": null,
   "metadata": {},
   "outputs": [
    {
     "data": {
      "text/plain": [
       "'라'"
      ]
     },
     "execution_count": 8,
     "metadata": {},
     "output_type": "execute_result"
    }
   ],
   "source": [
    "max('가나다라') # 문자인 경우는 유니코드 숫자로 변경하고 그 가장 큰 값을 반환"
   ]
  },
  {
   "cell_type": "code",
   "execution_count": 9,
   "metadata": {},
   "outputs": [
    {
     "name": "stdout",
     "output_type": "stream",
     "text": [
      "44032\n",
      "46972\n"
     ]
    }
   ],
   "source": [
    "print(ord('가'))\n",
    "print(ord('라'))"
   ]
  },
  {
   "cell_type": "code",
   "execution_count": 10,
   "metadata": {},
   "outputs": [
    {
     "data": {
      "text/plain": [
       "'가'"
      ]
     },
     "execution_count": 10,
     "metadata": {},
     "output_type": "execute_result"
    }
   ],
   "source": [
    "min('가나다라')"
   ]
  },
  {
   "cell_type": "code",
   "execution_count": 12,
   "metadata": {},
   "outputs": [
    {
     "name": "stdout",
     "output_type": "stream",
     "text": [
      "8\n",
      "8\n"
     ]
    }
   ],
   "source": [
    "print(pow(2, 3)) # 2의 3제곱\n",
    "print(2 ** 3)  # 2의 3제곱"
   ]
  },
  {
   "cell_type": "code",
   "execution_count": null,
   "metadata": {},
   "outputs": [
    {
     "name": "stdout",
     "output_type": "stream",
     "text": [
      "[2, 5, 11, 22, 67, 99]\n"
     ]
    }
   ],
   "source": [
    "# nums = [22, 11, 2, 5, 67, 99]\n",
    "nums = list((22, 11, 2, 5, 67, 99))\n",
    "nums.sort() # 오름 차순  - 원본 데이터가 변경되는 큰 문제!\n",
    "print(nums)"
   ]
  },
  {
   "cell_type": "code",
   "execution_count": 19,
   "metadata": {},
   "outputs": [
    {
     "name": "stdout",
     "output_type": "stream",
     "text": [
      "[99, 67, 22, 11, 5, 2] (22, 11, 2, 5, 67, 99)\n"
     ]
    }
   ],
   "source": [
    "nums = (22, 11, 2, 5, 67, 99)\n",
    "nums2 = sorted(nums)\n",
    "nums2.reverse() # 내림차순으로 변경 된다!\n",
    "print(nums2, nums)"
   ]
  },
  {
   "cell_type": "code",
   "execution_count": 21,
   "metadata": {},
   "outputs": [
    {
     "name": "stdout",
     "output_type": "stream",
     "text": [
      "[(1, 'A', '가'), (2, 'B', '나'), (3, 'C', '다')]\n"
     ]
    }
   ],
   "source": [
    "a = zip((1, 2, 3), 'ABC', '가나다')\n",
    "print(list(a))"
   ]
  },
  {
   "cell_type": "code",
   "execution_count": 23,
   "metadata": {},
   "outputs": [
    {
     "name": "stdout",
     "output_type": "stream",
     "text": [
      "['♥사과♥', '♥오렌지♥', '♥멜론♥', '♥망고♥']\n"
     ]
    }
   ],
   "source": [
    "fruits = ['사과', '오렌지', '멜론', '망고']\n",
    "\n",
    "def plus_heart(fruit):\n",
    "    return \"♥%s♥\" % fruit\n",
    "\n",
    "fruits_with_heart = list(map(plus_heart, fruits))\n",
    "print(fruits_with_heart)"
   ]
  },
  {
   "cell_type": "code",
   "execution_count": 24,
   "metadata": {},
   "outputs": [
    {
     "name": "stdout",
     "output_type": "stream",
     "text": [
      "['♥사과♥', '♥오렌지♥', '♥멜론♥', '♥망고♥']\n"
     ]
    }
   ],
   "source": [
    "fruits_with_heart = list(map(lambda s: \"♥%s♥\" % s, fruits))\n",
    "print(fruits_with_heart)"
   ]
  }
 ],
 "metadata": {
  "kernelspec": {
   "display_name": "Python 3",
   "language": "python",
   "name": "python3"
  },
  "language_info": {
   "codemirror_mode": {
    "name": "ipython",
    "version": 3
   },
   "file_extension": ".py",
   "mimetype": "text/x-python",
   "name": "python",
   "nbconvert_exporter": "python",
   "pygments_lexer": "ipython3",
   "version": "3.12.7"
  }
 },
 "nbformat": 4,
 "nbformat_minor": 2
}
