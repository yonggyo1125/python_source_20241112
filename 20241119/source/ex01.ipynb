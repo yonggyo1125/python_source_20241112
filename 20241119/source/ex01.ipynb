{
 "cells": [
  {
   "cell_type": "code",
   "execution_count": 2,
   "metadata": {},
   "outputs": [
    {
     "name": "stdout",
     "output_type": "stream",
     "text": [
      "예외 발생!!!\n",
      "매우 중요한 코드 실행.... 실행 안되면 큰일남!\n"
     ]
    }
   ],
   "source": [
    "try: # 예외가 발생할 가능성이 있는 코드 구간\n",
    "    num1 = 10\n",
    "    num2 = 0\n",
    "    result = num1 / num2  # 예외가 발생하면 프로그램이 중단\n",
    "\n",
    "    print(result)\n",
    "except:\n",
    "    print(\"예외 발생!!!\")\n",
    "\n",
    "print(\"매우 중요한 코드 실행.... 실행 안되면 큰일남!\")"
   ]
  },
  {
   "cell_type": "code",
   "execution_count": 4,
   "metadata": {},
   "outputs": [
    {
     "name": "stdout",
     "output_type": "stream",
     "text": [
      "division by zero\n"
     ]
    }
   ],
   "source": [
    "try:\n",
    "    num1 = 10\n",
    "    num2 = 0\n",
    "    result = num1 / num2  # ZeroDivisionError\n",
    "    print(result)\n",
    "except ZeroDivisionError as e:  # e : 예외 객체, 예외 정보 담겨 있다.\n",
    "    #print(\"예외발생!\")\n",
    "    print(e)"
   ]
  },
  {
   "cell_type": "code",
   "execution_count": 7,
   "metadata": {},
   "outputs": [
    {
     "name": "stdout",
     "output_type": "stream",
     "text": [
      "5.0\n",
      "'망고' is not in list\n",
      "반드시 실행!\n"
     ]
    }
   ],
   "source": [
    "# 예외가 2개 이상 발생하는 상황\n",
    "try:\n",
    "    # ZeroDivisionError 발생하는 상황\n",
    "    num1 = 10\n",
    "    #num2 = 0\n",
    "    num2 = 2\n",
    "    result = num1 / num2\n",
    "    print(result)\n",
    "\n",
    "    # 다른 예외가 발생할 상황 - ValueError\n",
    "    fruits = ['사과', '멜론', '오렌지']\n",
    "    pos = fruits.index(\"망고\") \n",
    "    print(pos)\n",
    "\n",
    "except ZeroDivisionError as e:\n",
    "    print(e)\n",
    "except ValueError as e:\n",
    "    print(e)\n",
    "\n",
    "print(\"반드시 실행!\")"
   ]
  },
  {
   "cell_type": "code",
   "execution_count": 8,
   "metadata": {},
   "outputs": [
    {
     "name": "stdout",
     "output_type": "stream",
     "text": [
      "5.0\n",
      "'망고' is not in list\n",
      "반드시 실행!\n"
     ]
    }
   ],
   "source": [
    "# 예외가 2개 이상 발생하는 상황\n",
    "try:\n",
    "    # ZeroDivisionError 발생하는 상황\n",
    "    num1 = 10\n",
    "    #num2 = 0\n",
    "    num2 = 2\n",
    "    result = num1 / num2\n",
    "    print(result)\n",
    "\n",
    "    # 다른 예외가 발생할 상황 - ValueError\n",
    "    fruits = ['사과', '멜론', '오렌지']\n",
    "    pos = fruits.index(\"망고\") \n",
    "    print(pos)\n",
    "\n",
    "except (ZeroDivisionError, ValueError) as e:\n",
    "    print(e)\n",
    "\n",
    "print(\"반드시 실행!\")"
   ]
  },
  {
   "cell_type": "code",
   "execution_count": null,
   "metadata": {},
   "outputs": [
    {
     "name": "stdout",
     "output_type": "stream",
     "text": [
      "5.0\n",
      "'망고' is not in list\n",
      "반드시 실행!\n"
     ]
    }
   ],
   "source": [
    "# 예외가 2개 이상 발생하는 상황\n",
    "try:\n",
    "    # ZeroDivisionError 발생하는 상황\n",
    "    num1 = 10\n",
    "    #num2 = 0\n",
    "    num2 = 2\n",
    "    result = num1 / num2\n",
    "    print(result)\n",
    "\n",
    "    # 다른 예외가 발생할 상황 - ValueError\n",
    "    fruits = ['사과', '멜론', '오렌지']\n",
    "    pos = fruits.index(\"망고\") \n",
    "    print(pos)\n",
    "\n",
    "# 모든 예외 클래스는 Exception을 상속 받았다..\n",
    "except Exception as e:  # 예외가 발생하긴 하는데... 뭔지 모르겠다..\n",
    "    print(e)\n",
    "\n",
    "print(\"반드시 실행!\")"
   ]
  },
  {
   "cell_type": "code",
   "execution_count": null,
   "metadata": {},
   "outputs": [
    {
     "data": {
      "text/plain": [
       "30"
      ]
     },
     "execution_count": 12,
     "metadata": {},
     "output_type": "execute_result"
    }
   ],
   "source": [
    "def func(a, b):\n",
    "    result = a + b\n",
    "    return result  # return - 함수 수행 종료\n",
    "    print(\"실행!\")  # 절대 실행되지 않음, 함수는 종료 했으니깐\n",
    "\n",
    "\n",
    "func(10, 20)"
   ]
  },
  {
   "cell_type": "code",
   "execution_count": 13,
   "metadata": {},
   "outputs": [
    {
     "name": "stdout",
     "output_type": "stream",
     "text": [
      "무조건 실행!\n"
     ]
    },
    {
     "data": {
      "text/plain": [
       "30"
      ]
     },
     "execution_count": 13,
     "metadata": {},
     "output_type": "execute_result"
    }
   ],
   "source": [
    "def func(a, b):\n",
    "    try:\n",
    "        result = a + b\n",
    "        return result\n",
    "    finally: # 심지어 return해도 실행!\n",
    "        print(\"무조건 실행!\")\n",
    "\n",
    "func(10, 20)"
   ]
  },
  {
   "cell_type": "code",
   "execution_count": null,
   "metadata": {},
   "outputs": [],
   "source": [
    "f = open(\"D:/data1.txt\", \"w\")\n",
    "f.write(\"데이터 입력...\")\n",
    "f.close() # 자원해제"
   ]
  }
 ],
 "metadata": {
  "kernelspec": {
   "display_name": "base",
   "language": "python",
   "name": "python3"
  },
  "language_info": {
   "codemirror_mode": {
    "name": "ipython",
    "version": 3
   },
   "file_extension": ".py",
   "mimetype": "text/x-python",
   "name": "python",
   "nbconvert_exporter": "python",
   "pygments_lexer": "ipython3",
   "version": "3.12.7"
  }
 },
 "nbformat": 4,
 "nbformat_minor": 2
}
