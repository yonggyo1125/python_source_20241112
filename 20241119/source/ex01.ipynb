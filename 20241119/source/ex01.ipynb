{
 "cells": [
  {
   "cell_type": "code",
   "execution_count": 2,
   "metadata": {},
   "outputs": [
    {
     "name": "stdout",
     "output_type": "stream",
     "text": [
      "예외 발생!!!\n",
      "매우 중요한 코드 실행.... 실행 안되면 큰일남!\n"
     ]
    }
   ],
   "source": [
    "try: # 예외가 발생할 가능성이 있는 코드 구간\n",
    "    num1 = 10\n",
    "    num2 = 0\n",
    "    result = num1 / num2  # 예외가 발생하면 프로그램이 중단\n",
    "\n",
    "    print(result)\n",
    "except:\n",
    "    print(\"예외 발생!!!\")\n",
    "\n",
    "print(\"매우 중요한 코드 실행.... 실행 안되면 큰일남!\")"
   ]
  },
  {
   "cell_type": "code",
   "execution_count": 4,
   "metadata": {},
   "outputs": [
    {
     "name": "stdout",
     "output_type": "stream",
     "text": [
      "division by zero\n"
     ]
    }
   ],
   "source": [
    "try:\n",
    "    num1 = 10\n",
    "    num2 = 0\n",
    "    result = num1 / num2  # ZeroDivisionError\n",
    "    print(result)\n",
    "except ZeroDivisionError as e:  # e : 예외 객체, 예외 정보 담겨 있다.\n",
    "    #print(\"예외발생!\")\n",
    "    print(e)"
   ]
  },
  {
   "cell_type": "code",
   "execution_count": 7,
   "metadata": {},
   "outputs": [
    {
     "name": "stdout",
     "output_type": "stream",
     "text": [
      "5.0\n",
      "'망고' is not in list\n",
      "반드시 실행!\n"
     ]
    }
   ],
   "source": [
    "# 예외가 2개 이상 발생하는 상황\n",
    "try:\n",
    "    # ZeroDivisionError 발생하는 상황\n",
    "    num1 = 10\n",
    "    #num2 = 0\n",
    "    num2 = 2\n",
    "    result = num1 / num2\n",
    "    print(result)\n",
    "\n",
    "    # 다른 예외가 발생할 상황 - ValueError\n",
    "    fruits = ['사과', '멜론', '오렌지']\n",
    "    pos = fruits.index(\"망고\") \n",
    "    print(pos)\n",
    "\n",
    "except ZeroDivisionError as e:\n",
    "    print(e)\n",
    "except ValueError as e:\n",
    "    print(e)\n",
    "\n",
    "print(\"반드시 실행!\")"
   ]
  },
  {
   "cell_type": "code",
   "execution_count": 8,
   "metadata": {},
   "outputs": [
    {
     "name": "stdout",
     "output_type": "stream",
     "text": [
      "5.0\n",
      "'망고' is not in list\n",
      "반드시 실행!\n"
     ]
    }
   ],
   "source": [
    "# 예외가 2개 이상 발생하는 상황\n",
    "try:\n",
    "    # ZeroDivisionError 발생하는 상황\n",
    "    num1 = 10\n",
    "    #num2 = 0\n",
    "    num2 = 2\n",
    "    result = num1 / num2\n",
    "    print(result)\n",
    "\n",
    "    # 다른 예외가 발생할 상황 - ValueError\n",
    "    fruits = ['사과', '멜론', '오렌지']\n",
    "    pos = fruits.index(\"망고\") \n",
    "    print(pos)\n",
    "\n",
    "except (ZeroDivisionError, ValueError) as e:\n",
    "    print(e)\n",
    "\n",
    "print(\"반드시 실행!\")"
   ]
  },
  {
   "cell_type": "code",
   "execution_count": null,
   "metadata": {},
   "outputs": [
    {
     "name": "stdout",
     "output_type": "stream",
     "text": [
      "5.0\n",
      "'망고' is not in list\n",
      "반드시 실행!\n"
     ]
    }
   ],
   "source": [
    "# 예외가 2개 이상 발생하는 상황\n",
    "try:\n",
    "    # ZeroDivisionError 발생하는 상황\n",
    "    num1 = 10\n",
    "    #num2 = 0\n",
    "    num2 = 2\n",
    "    result = num1 / num2\n",
    "    print(result)\n",
    "\n",
    "    # 다른 예외가 발생할 상황 - ValueError\n",
    "    fruits = ['사과', '멜론', '오렌지']\n",
    "    pos = fruits.index(\"망고\") \n",
    "    print(pos)\n",
    "\n",
    "# 모든 예외 클래스는 Exception을 상속 받았다..\n",
    "except Exception as e:  # 예외가 발생하긴 하는데... 뭔지 모르겠다..\n",
    "    print(e)\n",
    "\n",
    "print(\"반드시 실행!\")"
   ]
  },
  {
   "cell_type": "code",
   "execution_count": null,
   "metadata": {},
   "outputs": [
    {
     "data": {
      "text/plain": [
       "30"
      ]
     },
     "execution_count": 12,
     "metadata": {},
     "output_type": "execute_result"
    }
   ],
   "source": [
    "def func(a, b):\n",
    "    result = a + b\n",
    "    return result  # return - 함수 수행 종료\n",
    "    print(\"실행!\")  # 절대 실행되지 않음, 함수는 종료 했으니깐\n",
    "\n",
    "\n",
    "func(10, 20)"
   ]
  },
  {
   "cell_type": "code",
   "execution_count": 13,
   "metadata": {},
   "outputs": [
    {
     "name": "stdout",
     "output_type": "stream",
     "text": [
      "무조건 실행!\n"
     ]
    },
    {
     "data": {
      "text/plain": [
       "30"
      ]
     },
     "execution_count": 13,
     "metadata": {},
     "output_type": "execute_result"
    }
   ],
   "source": [
    "def func(a, b):\n",
    "    try:\n",
    "        result = a + b\n",
    "        return result\n",
    "    finally: # 심지어 return해도 실행!\n",
    "        print(\"무조건 실행!\")\n",
    "\n",
    "func(10, 20)"
   ]
  },
  {
   "cell_type": "code",
   "execution_count": null,
   "metadata": {},
   "outputs": [],
   "source": [
    "f = open(\"D:/data1.txt\", \"w\")\n",
    "f.write(\"데이터 입력...\")\n",
    "f.close() # 자원해제"
   ]
  },
  {
   "cell_type": "code",
   "execution_count": 23,
   "metadata": {},
   "outputs": [
    {
     "name": "stdout",
     "output_type": "stream",
     "text": [
      "자원해제!\n"
     ]
    }
   ],
   "source": [
    "try: \n",
    "    f = open(\"D:/data2.txt\", \"r\") # 파일 경로가 맞지 않으므로 읽기시 오류가 발생!\n",
    "    # 예외가 발생하는 자원 해제가 안되네요...\n",
    "    data = f.read()\n",
    "except FileNotFoundError as e:\n",
    "    pass  # 예외처리 안한다!\n",
    "finally: # 예외가 발생하든 안하든 무조건 자원해제는 진행된다!\n",
    "    f.close()\n",
    "    print(\"자원해제!\")\n",
    "\n",
    "# print(data)"
   ]
  },
  {
   "cell_type": "code",
   "execution_count": 25,
   "metadata": {},
   "outputs": [],
   "source": [
    "def calc(a, b):\n",
    "    pass  # 다음에 정의 하겠다.. 아무것도 안한다"
   ]
  },
  {
   "cell_type": "code",
   "execution_count": 26,
   "metadata": {},
   "outputs": [],
   "source": [
    "def func():\n",
    "    raise NotImplementedError # 구현 내용이 없다 예외 발생 "
   ]
  },
  {
   "cell_type": "code",
   "execution_count": 27,
   "metadata": {},
   "outputs": [
    {
     "ename": "NotImplementedError",
     "evalue": "",
     "output_type": "error",
     "traceback": [
      "\u001b[1;31m---------------------------------------------------------------------------\u001b[0m",
      "\u001b[1;31mNotImplementedError\u001b[0m                       Traceback (most recent call last)",
      "Cell \u001b[1;32mIn[27], line 1\u001b[0m\n\u001b[1;32m----> 1\u001b[0m \u001b[43mfunc\u001b[49m\u001b[43m(\u001b[49m\u001b[43m)\u001b[49m\n",
      "Cell \u001b[1;32mIn[26], line 2\u001b[0m, in \u001b[0;36mfunc\u001b[1;34m()\u001b[0m\n\u001b[0;32m      1\u001b[0m \u001b[38;5;28;01mdef\u001b[39;00m \u001b[38;5;21mfunc\u001b[39m():\n\u001b[1;32m----> 2\u001b[0m     \u001b[38;5;28;01mraise\u001b[39;00m \u001b[38;5;167;01mNotImplementedError\u001b[39;00m\n",
      "\u001b[1;31mNotImplementedError\u001b[0m: "
     ]
    }
   ],
   "source": [
    "func()"
   ]
  },
  {
   "cell_type": "code",
   "execution_count": 30,
   "metadata": {},
   "outputs": [],
   "source": [
    "class Bird:\n",
    "    def fly(self): # 새라고 하면 반드시 이 특징(fly)이 있고 꼭 구현해야함\n",
    "        raise NotImplementedError\n",
    "    \n",
    "\n",
    "class Eagle(Bird):\n",
    "    def fly(self): # 메서드 재정의가 부모 클래스 Bird에 의해서 강제 되고 있다.\n",
    "        print(\"독수리가 빠르게 날아간다!\")"
   ]
  },
  {
   "cell_type": "code",
   "execution_count": 31,
   "metadata": {},
   "outputs": [
    {
     "name": "stdout",
     "output_type": "stream",
     "text": [
      "독수리가 빠르게 날아간다!\n"
     ]
    }
   ],
   "source": [
    "eagle = Eagle()\n",
    "eagle.fly()"
   ]
  },
  {
   "cell_type": "code",
   "execution_count": null,
   "metadata": {},
   "outputs": [],
   "source": [
    "class UserIdError(Exception):\n",
    "    \"\"\"\n",
    "        객체의 참조 변수를 출력하면 자동 호출되는 메서드\n",
    "        참고) 자바 toString() 메서드와 용도가 비슷 \n",
    "    \"\"\"\n",
    "    def __str__(self):\n",
    "        return \"아이디가 일치하지 않습니다.\"\n",
    "\n",
    "class UserPassError(Exception):\n",
    "    def __str__(self):\n",
    "        return \"비밀번호가 일치하지 않습니다.\""
   ]
  },
  {
   "cell_type": "code",
   "execution_count": 33,
   "metadata": {},
   "outputs": [],
   "source": [
    "def login(user_id, user_pass):\n",
    "    # user_id : user01\n",
    "    # user_pass : 1234\n",
    "    # 예외가 발생하지 않으면 로그인 성공!\n",
    "    if user_id != 'user01':\n",
    "        raise UserIdError()\n",
    "    \n",
    "    if user_pass != '1234':\n",
    "        raise UserPassError()\n",
    "    \n",
    "    print(\"로그인 처리....\")"
   ]
  },
  {
   "cell_type": "code",
   "execution_count": 37,
   "metadata": {},
   "outputs": [
    {
     "name": "stdout",
     "output_type": "stream",
     "text": [
      "비밀번호가 일치하지 않습니다. \n"
     ]
    }
   ],
   "source": [
    "try:\n",
    "    login(\"user01\", \"12345\")\n",
    "    print(\"로그인 성공!\")\n",
    "except UserIdError as e:\n",
    "    print(\"아이디가 일치하지 않습니다.\", e)\n",
    "except UserPassError as e: \n",
    "    print(\"비밀번호가 일치하지 않습니다.\", e)"
   ]
  }
 ],
 "metadata": {
  "kernelspec": {
   "display_name": "base",
   "language": "python",
   "name": "python3"
  },
  "language_info": {
   "codemirror_mode": {
    "name": "ipython",
    "version": 3
   },
   "file_extension": ".py",
   "mimetype": "text/x-python",
   "name": "python",
   "nbconvert_exporter": "python",
   "pygments_lexer": "ipython3",
   "version": "3.12.7"
  }
 },
 "nbformat": 4,
 "nbformat_minor": 2
}
