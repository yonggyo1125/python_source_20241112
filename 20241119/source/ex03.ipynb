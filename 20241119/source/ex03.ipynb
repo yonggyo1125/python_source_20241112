{
 "cells": [
  {
   "cell_type": "code",
   "execution_count": null,
   "metadata": {},
   "outputs": [],
   "source": [
    "class Bird:\n",
    "    \"\"\"\n",
    "        Bird에 정의된 fly를 하위 클래스가 사용하면 예외가 발생! \n",
    "        정상적인 사용이 불가!\n",
    "        새라고 하면 fly 특징이 있으니깐 하위 클래스에서 맞게 잘 정의해서 써라!\n",
    "        다만 fly라고 하는 메서드의 이름은 꼭 지켜라!\n",
    "        하위 클래스의 메서드 재정의 강제! / 지켜야할 하위 클래스 표준!\n",
    "    \"\"\"\n",
    "    def fly(self):\n",
    "        raise NotImplementedError"
   ]
  },
  {
   "cell_type": "code",
   "execution_count": 4,
   "metadata": {},
   "outputs": [],
   "source": [
    "class Eagle(Bird):\n",
    "    def fly(self):\n",
    "        print(\"독수리가 빠르게 날아간다!\")"
   ]
  },
  {
   "cell_type": "code",
   "execution_count": 5,
   "metadata": {},
   "outputs": [
    {
     "name": "stdout",
     "output_type": "stream",
     "text": [
      "독수리가 빠르게 날아간다!\n"
     ]
    }
   ],
   "source": [
    "e1 = Eagle()\n",
    "e1.fly()"
   ]
  }
 ],
 "metadata": {
  "kernelspec": {
   "display_name": "base",
   "language": "python",
   "name": "python3"
  },
  "language_info": {
   "codemirror_mode": {
    "name": "ipython",
    "version": 3
   },
   "file_extension": ".py",
   "mimetype": "text/x-python",
   "name": "python",
   "nbconvert_exporter": "python",
   "pygments_lexer": "ipython3",
   "version": "3.12.7"
  }
 },
 "nbformat": 4,
 "nbformat_minor": 2
}
