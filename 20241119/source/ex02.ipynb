{
 "cells": [
  {
   "cell_type": "code",
   "execution_count": 14,
   "metadata": {},
   "outputs": [],
   "source": [
    "class Student:\n",
    "    # Student() 호출시, 객체 생성시 가장 먼저 호출되는 메서드\n",
    "    # 객체 변수, 인스턴스 변수의 값을 최초로 대입(초기화 작업)을 주로 진행\n",
    "    def __init__(self, id, name, major):\n",
    "        self.id = id\n",
    "        self.name = name\n",
    "        self.major = major\n",
    "\n",
    "    def __str__(self):\n",
    "        return f\"id={self.id}, name={self.name}, major={self.major}\";\n",
    "\n",
    "    # self : Student 클래스를 가지고 객체를 만들었을때 사용할 변수의 접근 \n",
    "    \"\"\"\n",
    "    def study(self):\n",
    "        print(\"id=%d, name=%s, major=%s\" \n",
    "            % (self.id, self.name, self.major))\n",
    "    \"\"\""
   ]
  },
  {
   "cell_type": "code",
   "execution_count": 15,
   "metadata": {},
   "outputs": [
    {
     "name": "stdout",
     "output_type": "stream",
     "text": [
      "id=1000, name=김이름, major=자바\n"
     ]
    }
   ],
   "source": [
    "s1 = Student(1000, \"김이름\", \"자바\")\n",
    "#s1.study()\n",
    "print(s1)"
   ]
  },
  {
   "cell_type": "code",
   "execution_count": null,
   "metadata": {},
   "outputs": [
    {
     "name": "stdout",
     "output_type": "stream",
     "text": [
      "<__main__.Student object at 0x00000179AF6B0FB0>\n"
     ]
    }
   ],
   "source": [
    "print(s1) # 값을 가지고 있는 객체의 변수를 출력 했을경우 주로 많기 기대하는 것?\n",
    "# 객체 변수에 할당된 값을 기대하고 있을것! 내부에서 __str__ 호출"
   ]
  },
  {
   "cell_type": "code",
   "execution_count": null,
   "metadata": {},
   "outputs": [
    {
     "name": "stdout",
     "output_type": "stream",
     "text": [
      "id=1000, name=이이름, major=파이썬\n"
     ]
    }
   ],
   "source": [
    "s1 = Student() # 생성자 \n",
    "s1.id = 1000  # 초기화 - 변수에 값을 최초로 대입\n",
    "s1.name = \"이이름\"\n",
    "s1.major = \"파이썬\"\n",
    "s1.study()"
   ]
  },
  {
   "cell_type": "code",
   "execution_count": 20,
   "metadata": {},
   "outputs": [],
   "source": [
    "class Multiply:\n",
    "    def __init__(self, num):\n",
    "        self.num = num\n",
    "\n",
    "    # 객체의 참조 변수를 함수처럼 호출 했을때 호출되는 메서드\n",
    "    def __call__(self, num):\n",
    "        return self.num * num\n",
    "    \n",
    "    def __str__(self):\n",
    "        return str(self.num)"
   ]
  },
  {
   "cell_type": "code",
   "execution_count": 21,
   "metadata": {},
   "outputs": [
    {
     "name": "stdout",
     "output_type": "stream",
     "text": [
      "200\n",
      "10\n"
     ]
    }
   ],
   "source": [
    "mul = Multiply(10)  # __init__ 호출!\n",
    "result = mul(20)  # __call__ 호출!\n",
    "print(result)\n",
    "print(mul) # __str__ 호출!"
   ]
  }
 ],
 "metadata": {
  "kernelspec": {
   "display_name": "base",
   "language": "python",
   "name": "python3"
  },
  "language_info": {
   "codemirror_mode": {
    "name": "ipython",
    "version": 3
   },
   "file_extension": ".py",
   "mimetype": "text/x-python",
   "name": "python",
   "nbconvert_exporter": "python",
   "pygments_lexer": "ipython3",
   "version": "3.12.7"
  }
 },
 "nbformat": 4,
 "nbformat_minor": 2
}
